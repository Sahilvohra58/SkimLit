{
  "nbformat": 4,
  "nbformat_minor": 0,
  "metadata": {
    "colab": {
      "name": "SkimLit_With_Documentation.ipynb",
      "provenance": [],
      "authorship_tag": "ABX9TyOwlN+DFTSIzlUKMb21uq5M",
      "include_colab_link": true
    },
    "kernelspec": {
      "name": "python3",
      "display_name": "Python 3"
    },
    "language_info": {
      "name": "python"
    },
    "accelerator": "GPU"
  },
  "cells": [
    {
      "cell_type": "markdown",
      "metadata": {
        "id": "view-in-github",
        "colab_type": "text"
      },
      "source": [
        "<a href=\"https://colab.research.google.com/github/Sahilvohra58/SkimLit/blob/main/SkimLit_With_Documentation.ipynb\" target=\"_parent\"><img src=\"https://colab.research.google.com/assets/colab-badge.svg\" alt=\"Open In Colab\"/></a>"
      ]
    },
    {
      "cell_type": "markdown",
      "source": [
        "The **SkimLit** project aims to do text classification of text for parts of abstracts of research papers.\n",
        "\n",
        "The project aimn on building machine learning and deep learning models that can produce comparable results to [PubMed 200k RCT: a Dataset for Sequential Sentence Classification in Medical Abstracts](https://arxiv.org/abs/1710.06071) \n",
        "\n",
        "\n",
        "The dataset consists of around 200,000 example of abstracts collected from different research papers. \n",
        "\n",
        "Every abstract recorsd has sentences that belong to either of these categories:\n",
        "\n",
        "\n",
        "1.   **OBJECTIVE**\n",
        "2.   **METHODS**\n",
        "3.   **RESULTS**\n",
        "4. **CONCLUSIONS**\n",
        "5. **BACKGROUND**\n",
        "\n",
        "The project aims to classify each sentence into either of these sentences.\n"
      ],
      "metadata": {
        "id": "RQiRruATY0OE"
      }
    },
    {
      "cell_type": "markdown",
      "source": [
        "**1. Downloading the dataset**"
      ],
      "metadata": {
        "id": "xpoBhGE7akNu"
      }
    },
    {
      "cell_type": "code",
      "execution_count": 1,
      "metadata": {
        "colab": {
          "base_uri": "https://localhost:8080/"
        },
        "id": "d65rJM_TYvUC",
        "outputId": "91075318-a954-4bc5-9c7d-a82b86c80eb7"
      },
      "outputs": [
        {
          "output_type": "stream",
          "name": "stdout",
          "text": [
            "Cloning into 'pubmed-rct'...\n",
            "remote: Enumerating objects: 33, done.\u001b[K\n",
            "remote: Counting objects: 100% (3/3), done.\u001b[K\n",
            "remote: Compressing objects: 100% (3/3), done.\u001b[K\n",
            "remote: Total 33 (delta 0), reused 0 (delta 0), pack-reused 30\u001b[K\n",
            "Unpacking objects: 100% (33/33), done.\n"
          ]
        }
      ],
      "source": [
        "!git clone https://github.com/Franck-Dernoncourt/pubmed-rct.git #will clone the repo"
      ]
    },
    {
      "cell_type": "code",
      "source": [
        "#Exploring the directory after cloning\n",
        "!ls pubmed-rct\n",
        "print()\n",
        "!ls pubmed-rct/PubMed_20k_RCT_numbers_replaced_with_at_sign"
      ],
      "metadata": {
        "colab": {
          "base_uri": "https://localhost:8080/"
        },
        "id": "aYyEcvDmay1Z",
        "outputId": "abc5112d-04f0-4047-adb7-b58e02f412ff"
      },
      "execution_count": 2,
      "outputs": [
        {
          "output_type": "stream",
          "name": "stdout",
          "text": [
            "PubMed_200k_RCT\n",
            "PubMed_200k_RCT_numbers_replaced_with_at_sign\n",
            "PubMed_20k_RCT\n",
            "PubMed_20k_RCT_numbers_replaced_with_at_sign\n",
            "README.md\n",
            "\n",
            "dev.txt  test.txt  train.txt\n"
          ]
        }
      ]
    },
    {
      "cell_type": "markdown",
      "source": [
        "There are four directories within what was downloaded.\n",
        "\n",
        "- 20K is just the 10% data of the main 200K data.\n",
        "- Each of them has a copy of with numbers inside the text replaced with @ sign.\n"
      ],
      "metadata": {
        "id": "GentW959bGc5"
      }
    },
    {
      "cell_type": "markdown",
      "source": [
        "**2. Data exploration**"
      ],
      "metadata": {
        "id": "hITrtjsHcIkD"
      }
    },
    {
      "cell_type": "code",
      "source": [
        "data_dir = \"pubmed-rct/PubMed_20k_RCT_numbers_replaced_with_at_sign/\" #Using small dataset for smaller machine learning model"
      ],
      "metadata": {
        "id": "b_tNcJM7a_io"
      },
      "execution_count": 3,
      "outputs": []
    },
    {
      "cell_type": "code",
      "source": [
        "import os\n",
        "\n",
        "#collect paths to all file inside the smaller dataset\n",
        "filenames = [data_dir+filename for filename in os.listdir(data_dir)]\n",
        "filenames"
      ],
      "metadata": {
        "colab": {
          "base_uri": "https://localhost:8080/"
        },
        "id": "pD8vVLKmbq5b",
        "outputId": "65a48bbb-95ef-4379-a949-e1356b4fc9a6"
      },
      "execution_count": 4,
      "outputs": [
        {
          "output_type": "execute_result",
          "data": {
            "text/plain": [
              "['pubmed-rct/PubMed_20k_RCT_numbers_replaced_with_at_sign/dev.txt',\n",
              " 'pubmed-rct/PubMed_20k_RCT_numbers_replaced_with_at_sign/train.txt',\n",
              " 'pubmed-rct/PubMed_20k_RCT_numbers_replaced_with_at_sign/test.txt']"
            ]
          },
          "metadata": {},
          "execution_count": 4
        }
      ]
    },
    {
      "cell_type": "code",
      "source": [
        "#lets open one of the files\n",
        "def get_lines(file_path):\n",
        "  with open(file_path, 'r') as f:\n",
        "    return f.readlines()\n",
        "\n",
        "raw_sample = get_lines(filenames[0])\n",
        "raw_sample[:15]"
      ],
      "metadata": {
        "colab": {
          "base_uri": "https://localhost:8080/"
        },
        "id": "JVPd7nSvcASx",
        "outputId": "aabe5767-037e-49d4-c195-9284e5fe13f5"
      },
      "execution_count": 5,
      "outputs": [
        {
          "output_type": "execute_result",
          "data": {
            "text/plain": [
              "['###24290286\\n',\n",
              " 'BACKGROUND\\tIgE sensitization to Aspergillus fumigatus and a positive sputum fungal culture result are common in patients with refractory asthma .\\n',\n",
              " 'BACKGROUND\\tIt is not clear whether these patients would benefit from antifungal treatment .\\n',\n",
              " 'OBJECTIVE\\tWe sought to determine whether a @-month course of voriconazole improved asthma-related outcomes in patients with asthma who are IgE sensitized to A fumigatus .\\n',\n",
              " 'METHODS\\tAsthmatic patients who were IgE sensitized to A fumigatus with a history of at least @ severe exacerbations in the previous @ months were treated for @ months with @ mg of voriconazole twice daily , followed by observation for @ months , in a double-blind , placebo-controlled , randomized design .\\n',\n",
              " 'METHODS\\tPrimary outcomes were improvement in quality of life at the end of the treatment period and a reduction in the number of severe exacerbations over the @ months of the study .\\n',\n",
              " 'RESULTS\\tSixty-five patients were randomized .\\n',\n",
              " 'RESULTS\\tFifty-nine patients started treatment ( @ receiving voriconazole and @ receiving placebo ) and were included in an intention-to-treat analysis .\\n',\n",
              " 'RESULTS\\tFifty-six patients took the full @ months of medication .\\n',\n",
              " 'RESULTS\\tBetween the voriconazole and placebo groups , there were no significant differences in the number of severe exacerbations ( @ vs @ per patient per year , respectively ; mean difference , @ ; @ % CI , @-@ @ ) , quality of life ( change in Asthma Quality of Life Questionnaire score , @ vs @ ; mean difference between groups , @ ; @ % CI , -@ to -@ ) , or any of our secondary outcome measures .\\n',\n",
              " 'CONCLUSIONS\\tWe were unable to show a beneficial effect of @ months of treatment with voriconazole in patients with moderate-to-severe asthma who were IgE sensitized to A fumigatus on either the rate of severe exacerbations , quality of life , or other markers of asthma control .\\n',\n",
              " '\\n',\n",
              " '###24464531\\n',\n",
              " 'BACKGROUND\\tOpioid antagonists ( e.g. , naltrexone ) and positive modulators of - aminobutyric-acidA ( GABAA ) receptors ( e.g. , alprazolam ) modestly attenuate the abuse-related effects of stimulants like amphetamine .\\n',\n",
              " 'BACKGROUND\\tThe use of higher doses to achieve greater efficacy is precluded by side effects .\\n']"
            ]
          },
          "metadata": {},
          "execution_count": 5
        }
      ]
    },
    {
      "cell_type": "markdown",
      "source": [
        "**Observations**: \n",
        "- The abstracts are sepearted from each other with some unique ID (begins with ###)\n",
        "- The label of each line is in the beginning (seperated by \\\\t)\n",
        "- Each line has \\\\n at its end.\n",
        "- Each abstract ends with \\\\n\n"
      ],
      "metadata": {
        "id": "Wwszrmw1dZXn"
      }
    },
    {
      "cell_type": "code",
      "source": [
        "import numpy as np\n",
        "a =np.full(5,2)\n",
        "a"
      ],
      "metadata": {
        "colab": {
          "base_uri": "https://localhost:8080/"
        },
        "id": "hhrKss80fuAu",
        "outputId": "2c69f430-3db6-4cb7-c431-49ed4cf7280c"
      },
      "execution_count": 6,
      "outputs": [
        {
          "output_type": "execute_result",
          "data": {
            "text/plain": [
              "array([2, 2, 2, 2, 2])"
            ]
          },
          "metadata": {},
          "execution_count": 6
        }
      ]
    },
    {
      "cell_type": "markdown",
      "source": [
        "In order to convert this data into usable form for the machine learning its better to write a function so that it can be applied on training, test and validation data."
      ],
      "metadata": {
        "id": "QntZITueeQ5e"
      }
    },
    {
      "cell_type": "code",
      "source": [
        "import re\n",
        "import numpy as np\n",
        "import pandas as pd\n",
        "import itertools\n",
        "\n",
        "def preprocessing_raw_to_dataframe(path):\n",
        "  lines = get_lines(path)\n",
        "  line_count = 0\n",
        "  previous_index = 1\n",
        "  data = []\n",
        "  lenght_counter = []\n",
        "  for line in lines:\n",
        "    if line.startswith('###'):\n",
        "      abstract_ID = line.splitlines()[0]\n",
        "    elif len(re.compile(r'^\\w').findall(line)) != 0:\n",
        "      line_split = line.split('\\t')\n",
        "      label = line_split[0]\n",
        "      text = line_split[1].splitlines()[0]\n",
        "      data.append([label, text, line_count])\n",
        "      line_count += 1\n",
        "    else:    \n",
        "      temp_zeros = np.full(line_count, line_count-1)\n",
        "      lenght_counter.append(temp_zeros.tolist())\n",
        "      line_count = 0\n",
        "    \n",
        "  data = pd.DataFrame(data, columns = ['labels', 'Text', 'Line_number'])\n",
        "  merged = list(itertools.chain(*lenght_counter))\n",
        "  data['total_lines'] = merged\n",
        "  \n",
        "  return data"
      ],
      "metadata": {
        "id": "YNrEK__jcrF2"
      },
      "execution_count": 7,
      "outputs": []
    },
    {
      "cell_type": "code",
      "source": [
        "test_df = preprocessing_raw_to_dataframe(filenames[0])\n",
        "train_df = preprocessing_raw_to_dataframe(filenames[1])\n",
        "val_df = preprocessing_raw_to_dataframe(filenames[2]) "
      ],
      "metadata": {
        "id": "d0KVqxEgm92K"
      },
      "execution_count": 8,
      "outputs": []
    },
    {
      "cell_type": "markdown",
      "source": [
        "Processed data"
      ],
      "metadata": {
        "id": "JV6syk6xw0bP"
      }
    },
    {
      "cell_type": "code",
      "source": [
        "train_df.head()"
      ],
      "metadata": {
        "colab": {
          "base_uri": "https://localhost:8080/",
          "height": 206
        },
        "id": "TZsLyQeUnZfe",
        "outputId": "fac0ed99-65a4-4c00-beed-1ba76067c8e8"
      },
      "execution_count": 9,
      "outputs": [
        {
          "output_type": "execute_result",
          "data": {
            "text/html": [
              "<div>\n",
              "<style scoped>\n",
              "    .dataframe tbody tr th:only-of-type {\n",
              "        vertical-align: middle;\n",
              "    }\n",
              "\n",
              "    .dataframe tbody tr th {\n",
              "        vertical-align: top;\n",
              "    }\n",
              "\n",
              "    .dataframe thead th {\n",
              "        text-align: right;\n",
              "    }\n",
              "</style>\n",
              "<table border=\"1\" class=\"dataframe\">\n",
              "  <thead>\n",
              "    <tr style=\"text-align: right;\">\n",
              "      <th></th>\n",
              "      <th>labels</th>\n",
              "      <th>Text</th>\n",
              "      <th>Line_number</th>\n",
              "      <th>total_lines</th>\n",
              "    </tr>\n",
              "  </thead>\n",
              "  <tbody>\n",
              "    <tr>\n",
              "      <th>0</th>\n",
              "      <td>OBJECTIVE</td>\n",
              "      <td>To investigate the efficacy of @ weeks of dail...</td>\n",
              "      <td>0</td>\n",
              "      <td>11</td>\n",
              "    </tr>\n",
              "    <tr>\n",
              "      <th>1</th>\n",
              "      <td>METHODS</td>\n",
              "      <td>A total of @ patients with primary knee OA wer...</td>\n",
              "      <td>1</td>\n",
              "      <td>11</td>\n",
              "    </tr>\n",
              "    <tr>\n",
              "      <th>2</th>\n",
              "      <td>METHODS</td>\n",
              "      <td>Outcome measures included pain reduction and i...</td>\n",
              "      <td>2</td>\n",
              "      <td>11</td>\n",
              "    </tr>\n",
              "    <tr>\n",
              "      <th>3</th>\n",
              "      <td>METHODS</td>\n",
              "      <td>Pain was assessed using the visual analog pain...</td>\n",
              "      <td>3</td>\n",
              "      <td>11</td>\n",
              "    </tr>\n",
              "    <tr>\n",
              "      <th>4</th>\n",
              "      <td>METHODS</td>\n",
              "      <td>Secondary outcome measures included the Wester...</td>\n",
              "      <td>4</td>\n",
              "      <td>11</td>\n",
              "    </tr>\n",
              "  </tbody>\n",
              "</table>\n",
              "</div>"
            ],
            "text/plain": [
              "      labels  ... total_lines\n",
              "0  OBJECTIVE  ...          11\n",
              "1    METHODS  ...          11\n",
              "2    METHODS  ...          11\n",
              "3    METHODS  ...          11\n",
              "4    METHODS  ...          11\n",
              "\n",
              "[5 rows x 4 columns]"
            ]
          },
          "metadata": {},
          "execution_count": 9
        }
      ]
    },
    {
      "cell_type": "code",
      "source": [
        "train_df.labels.value_counts()"
      ],
      "metadata": {
        "colab": {
          "base_uri": "https://localhost:8080/"
        },
        "id": "wMPJk-O6p2gI",
        "outputId": "0ea0ecba-2ef9-4853-a559-f9d3af840a34"
      },
      "execution_count": 10,
      "outputs": [
        {
          "output_type": "execute_result",
          "data": {
            "text/plain": [
              "METHODS        59353\n",
              "RESULTS        57953\n",
              "CONCLUSIONS    27168\n",
              "BACKGROUND     21727\n",
              "OBJECTIVE      13839\n",
              "Name: labels, dtype: int64"
            ]
          },
          "metadata": {},
          "execution_count": 10
        }
      ]
    },
    {
      "cell_type": "markdown",
      "source": [
        "Plotting for data exploration"
      ],
      "metadata": {
        "id": "sbU1TlTZxqiU"
      }
    },
    {
      "cell_type": "code",
      "source": [
        "print('Distribution of length of abstracts')\n",
        "train_df.total_lines.hist(); #length of each atstract record"
      ],
      "metadata": {
        "colab": {
          "base_uri": "https://localhost:8080/",
          "height": 285
        },
        "id": "s5VyRUrKw7MJ",
        "outputId": "8a170301-5257-4ee6-a14c-98595c75694a"
      },
      "execution_count": 11,
      "outputs": [
        {
          "output_type": "stream",
          "name": "stdout",
          "text": [
            "Distribution of length of abstracts\n"
          ]
        },
        {
          "output_type": "display_data",
          "data": {
            "image/png": "[encoded data removed]",
            "text/plain": [
              "<Figure size 432x288 with 1 Axes>"
            ]
          },
          "metadata": {
            "needs_background": "light"
          }
        }
      ]
    },
    {
      "cell_type": "code",
      "source": [
        "import matplotlib.pyplot as plt\n",
        "print('Distribution of lenght of lines for each line in abstracts')\n",
        "text_length_list = [len(line) for line in train_df.Text]\n",
        "plt.hist(text_length_list, bins = 50)\n",
        "plt.show()"
      ],
      "metadata": {
        "colab": {
          "base_uri": "https://localhost:8080/",
          "height": 283
        },
        "id": "gYNYPW82xAnu",
        "outputId": "0c2bfea6-4dd5-454d-eddd-715a89da2717"
      },
      "execution_count": 12,
      "outputs": [
        {
          "output_type": "stream",
          "name": "stdout",
          "text": [
            "Distribution of lenght of lines for each line in abstracts\n"
          ]
        },
        {
          "output_type": "display_data",
          "data": {
            "image/png": "[encoded data removed]",
            "text/plain": [
              "<Figure size 432x288 with 1 Axes>"
            ]
          },
          "metadata": {
            "needs_background": "light"
          }
        }
      ]
    },
    {
      "cell_type": "markdown",
      "source": [
        "Seperating text sentences from labels for further train-test split"
      ],
      "metadata": {
        "id": "Zb5154GeyYkS"
      }
    },
    {
      "cell_type": "code",
      "source": [
        "train_sentences = train_df['Text'].tolist()\n",
        "val_sentences = val_df['Text'].tolist()\n",
        "test_sentences = test_df['Text'].tolist()"
      ],
      "metadata": {
        "id": "_mzBmDXHxUZU"
      },
      "execution_count": 13,
      "outputs": []
    },
    {
      "cell_type": "code",
      "source": [
        "train_sentences[:5]"
      ],
      "metadata": {
        "colab": {
          "base_uri": "https://localhost:8080/"
        },
        "id": "uZCdECAcygvj",
        "outputId": "72646a92-d815-479a-f299-42541d3fbdc1"
      },
      "execution_count": 14,
      "outputs": [
        {
          "output_type": "execute_result",
          "data": {
            "text/plain": [
              "['To investigate the efficacy of @ weeks of daily low-dose oral prednisolone in improving pain , mobility , and systemic low-grade inflammation in the short term and whether the effect would be sustained at @ weeks in older adults with moderate to severe knee osteoarthritis ( OA ) .',\n",
              " 'A total of @ patients with primary knee OA were randomized @:@ ; @ received @ mg/day of prednisolone and @ received placebo for @ weeks .',\n",
              " 'Outcome measures included pain reduction and improvement in function scores and systemic inflammation markers .',\n",
              " 'Pain was assessed using the visual analog pain scale ( @-@ mm ) .',\n",
              " 'Secondary outcome measures included the Western Ontario and McMaster Universities Osteoarthritis Index scores , patient global assessment ( PGA ) of the severity of knee OA , and @-min walk distance ( @MWD ) .']"
            ]
          },
          "metadata": {},
          "execution_count": 14
        }
      ]
    },
    {
      "cell_type": "markdown",
      "source": [
        "Encoding labels: We will need to encode in both one hot and label encoding for evaluation purpose."
      ],
      "metadata": {
        "id": "YI0xyv6rAdEG"
      }
    },
    {
      "cell_type": "code",
      "source": [
        "from sklearn.preprocessing import OneHotEncoder\n",
        "onehotencoder = OneHotEncoder(sparse=False)\n",
        "\n",
        "train_onehot_labels = onehotencoder.fit_transform(train_df['labels'].to_numpy().reshape(-1,1))\n",
        "val_onehot_labels = onehotencoder.transform(val_df['labels'].to_numpy().reshape(-1,1))\n",
        "test_onehot_labels = onehotencoder.transform(test_df['labels'].to_numpy().reshape(-1,1))"
      ],
      "metadata": {
        "id": "EFymjUeqAnXe"
      },
      "execution_count": 15,
      "outputs": []
    },
    {
      "cell_type": "code",
      "source": [
        "from sklearn.preprocessing import LabelEncoder\n",
        "labelencoder = LabelEncoder()\n",
        "\n",
        "train_labenc_labels = labelencoder.fit_transform(train_df['labels'].to_numpy())\n",
        "val_labenc_labels = labelencoder.transform(val_df['labels'].to_numpy())\n",
        "test_labenc_labels = labelencoder.transform(test_df['labels'].to_numpy())"
      ],
      "metadata": {
        "id": "a6bpybf1CRcn"
      },
      "execution_count": 16,
      "outputs": []
    },
    {
      "cell_type": "markdown",
      "source": [
        "Now that our data is in a dataframe, it is better to define a strategy of experiments. Initial experiments should be on smaller models trained on small dataset and viceversa for later ones."
      ],
      "metadata": {
        "id": "KKyUmzgX5XZA"
      }
    },
    {
      "cell_type": "markdown",
      "source": [
        "**3. Experiment strategy**\n",
        "1. Model 0: Naive Bayes - Tfidf Multinomial.\n",
        "2. Model 1: Small deep learning model with work tokenization and embedding.\n",
        "3. Model 2: Using pretrained embedding (transfer learning).\n",
        "4. Model 3: Deep learning with character tokenization and embedding.\n",
        "4. Model 4: Deep learning with word (transfer learning) and character tokenization and embedding.\n",
        "5. Model 5: Deep learning with word (transfer learning), character and positional embedding."
      ],
      "metadata": {
        "id": "uiORCuyD5mey"
      }
    },
    {
      "cell_type": "markdown",
      "source": [
        "**Model 0: Naive Bayes - Tfidf Multinomial**"
      ],
      "metadata": {
        "id": "eH1CNpFY7W4K"
      }
    },
    {
      "cell_type": "code",
      "source": [
        "# importing libraries and building pipeline\n",
        "from sklearn.pipeline import Pipeline\n",
        "from sklearn.feature_extraction.text import TfidfVectorizer\n",
        "from sklearn.naive_bayes import MultinomialNB\n",
        "\n",
        "model_0 = Pipeline([\n",
        "                    (\"tf-idf\", TfidfVectorizer()),\n",
        "                    (\"clf\", MultinomialNB())                    \n",
        "                    ])\n",
        "model_0.fit(X = train_sentences, y = train_labenc_labels)"
      ],
      "metadata": {
        "colab": {
          "base_uri": "https://localhost:8080/"
        },
        "id": "P8zgU5Hg5jgz",
        "outputId": "9c16d3cd-35b4-447b-df82-38c5d78456e5"
      },
      "execution_count": 17,
      "outputs": [
        {
          "output_type": "execute_result",
          "data": {
            "text/plain": [
              "Pipeline(steps=[('tf-idf', TfidfVectorizer()), ('clf', MultinomialNB())])"
            ]
          },
          "metadata": {},
          "execution_count": 17
        }
      ]
    },
    {
      "cell_type": "code",
      "source": [
        "#Accuracy score was 67%\n",
        "print(f\"accuracy = {model_0.score(X = val_sentences, y = val_labenc_labels)}\")"
      ],
      "metadata": {
        "colab": {
          "base_uri": "https://localhost:8080/"
        },
        "id": "N2mqfEEc_xBV",
        "outputId": "ab68dde9-f297-4caa-fde6-484458025b49"
      },
      "execution_count": 18,
      "outputs": [
        {
          "output_type": "stream",
          "name": "stdout",
          "text": [
            "accuracy = 0.716674962667994\n"
          ]
        }
      ]
    },
    {
      "cell_type": "code",
      "source": [
        "#Making predictions\n",
        "baseline_preds = model_0.predict(val_sentences)\n",
        "baseline_preds"
      ],
      "metadata": {
        "colab": {
          "base_uri": "https://localhost:8080/"
        },
        "id": "gYpzE4RqEdX7",
        "outputId": "bbc0449f-7ec2-4f87-f462-62b468831810"
      },
      "execution_count": 19,
      "outputs": [
        {
          "output_type": "execute_result",
          "data": {
            "text/plain": [
              "array([2, 2, 2, ..., 4, 4, 4])"
            ]
          },
          "metadata": {},
          "execution_count": 19
        }
      ]
    },
    {
      "cell_type": "code",
      "source": [
        "#Defining score calculation function so that it can be used for further models.\n",
        "from sklearn.metrics import accuracy_score, precision_recall_fscore_support\n",
        "\n",
        "def calculate_scores(y_true, y_pred):\n",
        "  model_accuracy = accuracy_score(y_true, y_pred) * 100\n",
        "  # Calculate model precision, recall and f1 score using \"weighted\" average\n",
        "  model_precision, model_recall, model_f1, _ = precision_recall_fscore_support(y_true, y_pred, average=\"weighted\")\n",
        "  model_results = {\"accuracy\": model_accuracy,\n",
        "                  \"precision\": model_precision,\n",
        "                  \"recall\": model_recall,\n",
        "                  \"f1\": model_f1}\n",
        "  return model_results"
      ],
      "metadata": {
        "id": "IxppZSqoEvTu"
      },
      "execution_count": 20,
      "outputs": []
    },
    {
      "cell_type": "code",
      "source": [
        "model_0_results = calculate_scores(val_labenc_labels, baseline_preds)\n",
        "model_0_results"
      ],
      "metadata": {
        "colab": {
          "base_uri": "https://localhost:8080/"
        },
        "id": "rIsb98IoNOmd",
        "outputId": "0fdd8a02-8cea-4643-c08f-8ac53fcc84ee"
      },
      "execution_count": 21,
      "outputs": [
        {
          "output_type": "execute_result",
          "data": {
            "text/plain": [
              "{'accuracy': 71.6674962667994,\n",
              " 'f1': 0.6925101703856846,\n",
              " 'precision': 0.7124322482375202,\n",
              " 'recall': 0.716674962667994}"
            ]
          },
          "metadata": {},
          "execution_count": 21
        }
      ]
    },
    {
      "cell_type": "markdown",
      "source": [
        "**Model 1: Small deep learning model with work tokenization and embedding**\n",
        "\n",
        "- Only 10% of training data used.\n",
        "\n",
        "\n"
      ],
      "metadata": {
        "id": "6IMTyxbHOEss"
      }
    },
    {
      "cell_type": "code",
      "source": [
        "#Finding a sequence length that convers 95% of the training samples\n",
        "output_sequence_length = int(np.percentile([len(sent.split()) for sent in train_sentences], 95))\n",
        "output_sequence_length"
      ],
      "metadata": {
        "colab": {
          "base_uri": "https://localhost:8080/"
        },
        "id": "mgOCjLdXPY_G",
        "outputId": "8502a5ff-5231-4c2f-9ea5-4ea98772d2d6"
      },
      "execution_count": 22,
      "outputs": [
        {
          "output_type": "execute_result",
          "data": {
            "text/plain": [
              "55"
            ]
          },
          "metadata": {},
          "execution_count": 22
        }
      ]
    },
    {
      "cell_type": "code",
      "source": [
        "#Forming a text vectorization layer and adapting it to the training samples\n",
        "from tensorflow.keras.layers import TextVectorization\n",
        "\n",
        "textvectorization_model_1 = TextVectorization(\n",
        "    max_tokens=68000, standardize='lower_and_strip_punctuation',\n",
        "    output_sequence_length=output_sequence_length)\n",
        "\n",
        "textvectorization_model_1.adapt(train_sentences)"
      ],
      "metadata": {
        "id": "0YsKUMrJNrMX"
      },
      "execution_count": 23,
      "outputs": []
    },
    {
      "cell_type": "code",
      "source": [
        "#Forming an embedding layer\n",
        "from tensorflow.keras.layers import Embedding\n",
        "\n",
        "embedding_model_1 = Embedding(\n",
        "    input_dim = len(textvectorization_model_1.get_vocabulary()), \n",
        "    output_dim = 128, mask_zero=True, \n",
        "    input_length=output_sequence_length)"
      ],
      "metadata": {
        "id": "iUUqXaxOP3CE"
      },
      "execution_count": 24,
      "outputs": []
    },
    {
      "cell_type": "markdown",
      "source": [
        "Lets vectorize sentences in order to use later"
      ],
      "metadata": {
        "id": "3Y45fcpPRrTY"
      }
    },
    {
      "cell_type": "code",
      "source": [
        "train_vec_sentences = textvectorization_model_1(train_sentences)\n",
        "test_vec_sentences = textvectorization_model_1(test_sentences)\n",
        "val_vec_sentences = textvectorization_model_1(val_sentences)"
      ],
      "metadata": {
        "id": "itiaALWGQ1Rt"
      },
      "execution_count": 25,
      "outputs": []
    },
    {
      "cell_type": "code",
      "source": [
        "train_vec_sentences[:3]"
      ],
      "metadata": {
        "colab": {
          "base_uri": "https://localhost:8080/"
        },
        "id": "858Xcq-USFJ7",
        "outputId": "48351f63-240a-490a-813f-b98787ba4dd7"
      },
      "execution_count": 26,
      "outputs": [
        {
          "output_type": "execute_result",
          "data": {
            "text/plain": [
              "<tf.Tensor: shape=(3, 55), dtype=int64, numpy=\n",
              "array([[   6,  331,    2,   79,    4,   53,    4,  161, 1127,  217, 2535,\n",
              "           5,  557,   65, 1584,    3,  670, 5559,  636,    5,    2,  654,\n",
              "        1137,    3,  180,    2,   70,  495,   36,  781,   15,   53,    5,\n",
              "         350,  266,    7,  362,    6,  289,  517, 1430, 1743,    0,    0,\n",
              "           0,    0,    0,    0,    0,    0,    0,    0,    0,    0,    0],\n",
              "       [   8,   76,    4,   12,    7,   56,  517, 1743,    9,   29,   80,\n",
              "         744,    4, 2535,    3,   80,   48,   11,   53,    0,    0,    0,\n",
              "           0,    0,    0,    0,    0,    0,    0,    0,    0,    0,    0,\n",
              "           0,    0,    0,    0,    0,    0,    0,    0,    0,    0,    0,\n",
              "           0,    0,    0,    0,    0,    0,    0,    0,    0,    0,    0],\n",
              "       [  86,  213,  121,   65,  169,    3,  194,    5,  149,  119,    3,\n",
              "         670,  636,  747,    0,    0,    0,    0,    0,    0,    0,    0,\n",
              "           0,    0,    0,    0,    0,    0,    0,    0,    0,    0,    0,\n",
              "           0,    0,    0,    0,    0,    0,    0,    0,    0,    0,    0,\n",
              "           0,    0,    0,    0,    0,    0,    0,    0,    0,    0,    0]])>"
            ]
          },
          "metadata": {},
          "execution_count": 26
        }
      ]
    },
    {
      "cell_type": "code",
      "source": [
        "train_onehot_labels"
      ],
      "metadata": {
        "colab": {
          "base_uri": "https://localhost:8080/"
        },
        "id": "hdGGaFsrTMep",
        "outputId": "055842a9-27dc-410c-ee4a-2f0fd541e577"
      },
      "execution_count": 27,
      "outputs": [
        {
          "output_type": "execute_result",
          "data": {
            "text/plain": [
              "array([[0., 0., 0., 1., 0.],\n",
              "       [0., 0., 1., 0., 0.],\n",
              "       [0., 0., 1., 0., 0.],\n",
              "       ...,\n",
              "       [0., 0., 0., 0., 1.],\n",
              "       [0., 1., 0., 0., 0.],\n",
              "       [0., 1., 0., 0., 0.]])"
            ]
          },
          "metadata": {},
          "execution_count": 27
        }
      ]
    },
    {
      "cell_type": "markdown",
      "source": [
        "Now its time to convert the sentences into tensors so that they can be passed into model training."
      ],
      "metadata": {
        "id": "E5_Ze0IXSSFf"
      }
    },
    {
      "cell_type": "code",
      "source": [
        "import tensorflow as tf\n",
        "train_tensors = tf.data.Dataset.from_tensor_slices((train_sentences, train_onehot_labels)).batch(32).prefetch(tf.data.AUTOTUNE)\n",
        "val_tensors = tf.data.Dataset.from_tensor_slices((val_sentences, val_onehot_labels)).batch(32).prefetch(tf.data.AUTOTUNE)\n",
        "test_tensors = tf.data.Dataset.from_tensor_slices((test_sentences, test_onehot_labels)).batch(32).prefetch(tf.data.AUTOTUNE)"
      ],
      "metadata": {
        "id": "8KmbcAB5SMNO"
      },
      "execution_count": 28,
      "outputs": []
    },
    {
      "cell_type": "code",
      "source": [
        "val_tensors"
      ],
      "metadata": {
        "colab": {
          "base_uri": "https://localhost:8080/"
        },
        "id": "227WvBz9exA0",
        "outputId": "506271db-b8ae-4900-be8b-3ee166fd9df9"
      },
      "execution_count": 29,
      "outputs": [
        {
          "output_type": "execute_result",
          "data": {
            "text/plain": [
              "<PrefetchDataset shapes: ((None,), (None, 5)), types: (tf.string, tf.float64)>"
            ]
          },
          "metadata": {},
          "execution_count": 29
        }
      ]
    },
    {
      "cell_type": "code",
      "source": [
        "#Checking first element of first batch\n",
        "next(iter(train_tensors))[0][0]"
      ],
      "metadata": {
        "colab": {
          "base_uri": "https://localhost:8080/"
        },
        "id": "ayiYnMoOS5x8",
        "outputId": "91c270d2-a18c-4aea-ac9c-2d4ad4e2decf"
      },
      "execution_count": 30,
      "outputs": [
        {
          "output_type": "execute_result",
          "data": {
            "text/plain": [
              "<tf.Tensor: shape=(), dtype=string, numpy=b'To investigate the efficacy of @ weeks of daily low-dose oral prednisolone in improving pain , mobility , and systemic low-grade inflammation in the short term and whether the effect would be sustained at @ weeks in older adults with moderate to severe knee osteoarthritis ( OA ) .'>"
            ]
          },
          "metadata": {},
          "execution_count": 30
        }
      ]
    },
    {
      "cell_type": "markdown",
      "source": [
        "Defining model"
      ],
      "metadata": {
        "id": "NRRhmaAbWNwe"
      }
    },
    {
      "cell_type": "code",
      "source": [
        "from tensorflow.keras import layers\n",
        "\n",
        "input = layers.Input(shape=(1,), dtype=tf.string, name = 'model_1_input')\n",
        "textvectorization_layer_model_1 = textvectorization_model_1(input)\n",
        "embedding_layer_model_1 = embedding_model_1(textvectorization_layer_model_1)\n",
        "x = layers.Conv1D(filters=15, kernel_size=3, activation='relu')(embedding_layer_model_1)\n",
        "x = layers.GlobalAveragePooling1D()(x)\n",
        "output = layers.Dense(5, activation='softmax', name = 'model_1_output')(x)\n",
        "\n",
        "model_1 = tf.keras.Model(input, output)"
      ],
      "metadata": {
        "id": "hXacBPmbTpXr"
      },
      "execution_count": 31,
      "outputs": []
    },
    {
      "cell_type": "code",
      "source": [
        "model_1.compile(loss = 'categorical_crossentropy', optimizer=tf.keras.optimizers.Adam(), metrics=['accuracy'])\n",
        "model_1.fit(train_tensors,\n",
        "            epochs= 5,\n",
        "            steps_per_epoch = int(0.1 *len(train_tensors)), #Using only 10% of training data\n",
        "            validation_data = val_tensors,\n",
        "            validation_steps = int(0.1*len(val_tensors))) #Using only 10% of validation data"
      ],
      "metadata": {
        "colab": {
          "base_uri": "https://localhost:8080/"
        },
        "id": "o3vd9A5cUj9b",
        "outputId": "97b2817d-d255-4c04-c235-c104ed44ca25"
      },
      "execution_count": 32,
      "outputs": [
        {
          "output_type": "stream",
          "name": "stdout",
          "text": [
            "Epoch 1/5\n",
            "562/562 [==============================] - 18s 15ms/step - loss: 1.0558 - accuracy: 0.5845 - val_loss: 0.7488 - val_accuracy: 0.7015\n",
            "Epoch 2/5\n",
            "562/562 [==============================] - 8s 14ms/step - loss: 0.7059 - accuracy: 0.7310 - val_loss: 0.6602 - val_accuracy: 0.7424\n",
            "Epoch 3/5\n",
            "562/562 [==============================] - 8s 14ms/step - loss: 0.6537 - accuracy: 0.7518 - val_loss: 0.6305 - val_accuracy: 0.7590\n",
            "Epoch 4/5\n",
            "562/562 [==============================] - 8s 14ms/step - loss: 0.6306 - accuracy: 0.7634 - val_loss: 0.6075 - val_accuracy: 0.7610\n",
            "Epoch 5/5\n",
            "562/562 [==============================] - 8s 14ms/step - loss: 0.6276 - accuracy: 0.7707 - val_loss: 0.5926 - val_accuracy: 0.7699\n"
          ]
        },
        {
          "output_type": "execute_result",
          "data": {
            "text/plain": [
              "<keras.callbacks.History at 0x7fc46ca2e610>"
            ]
          },
          "metadata": {},
          "execution_count": 32
        }
      ]
    },
    {
      "cell_type": "code",
      "source": [
        "model_1_history = model_1.history"
      ],
      "metadata": {
        "id": "oxZUPvuzdigW"
      },
      "execution_count": 33,
      "outputs": []
    },
    {
      "cell_type": "code",
      "source": [
        "#Evaluating on full test data\n",
        "model_1.evaluate(test_tensors)"
      ],
      "metadata": {
        "colab": {
          "base_uri": "https://localhost:8080/"
        },
        "id": "_e1jWXn7fIMU",
        "outputId": "31d866df-94c6-4099-f3be-99f995cba7e7"
      },
      "execution_count": 34,
      "outputs": [
        {
          "output_type": "stream",
          "name": "stdout",
          "text": [
            "945/945 [==============================] - 5s 5ms/step - loss: 0.6016 - accuracy: 0.7791\n"
          ]
        },
        {
          "output_type": "execute_result",
          "data": {
            "text/plain": [
              "[0.6015844345092773, 0.7791274785995483]"
            ]
          },
          "metadata": {},
          "execution_count": 34
        }
      ]
    },
    {
      "cell_type": "markdown",
      "source": [
        "Predicting probabilities and calculating scores."
      ],
      "metadata": {
        "id": "V8qBcN6rf_7l"
      }
    },
    {
      "cell_type": "code",
      "source": [
        "model_1_pred_probs = model_1.predict(val_tensors) #Predicting probabilities\n",
        "\n",
        "model_1_preds = tf.argmax(model_1_pred_probs, axis=1) #Preeiction label encoded labels\n",
        "\n",
        "model_1_results = calculate_scores(y_true=val_labenc_labels,\n",
        "                                    y_pred=model_1_preds)\n",
        "model_1_results"
      ],
      "metadata": {
        "colab": {
          "base_uri": "https://localhost:8080/"
        },
        "id": "Pc2MRCyffX17",
        "outputId": "0128582f-8e63-4137-e258-f06b5004f878"
      },
      "execution_count": 35,
      "outputs": [
        {
          "output_type": "execute_result",
          "data": {
            "text/plain": [
              "{'accuracy': 77.35191637630662,\n",
              " 'f1': 0.76761474108209,\n",
              " 'precision': 0.7721686163455974,\n",
              " 'recall': 0.7735191637630662}"
            ]
          },
          "metadata": {},
          "execution_count": 35
        }
      ]
    },
    {
      "cell_type": "markdown",
      "source": [
        "**Model 2: Deep learning model with pretrained embeddings.**\n",
        "- Only 10% of data is used."
      ],
      "metadata": {
        "id": "Mjbc5AS5hgAm"
      }
    },
    {
      "cell_type": "code",
      "source": [
        "#Importing libraries\n",
        "import tensorflow_hub as hub\n",
        "\n",
        "pretrained_embedding_model_2 = hub.KerasLayer(\"https://tfhub.dev/google/universal-sentence-encoder/4\",\n",
        "                                        trainable=False, \n",
        "                                        name=\"universal_sentence_encoder_model_2\")"
      ],
      "metadata": {
        "id": "FSoq39GlhfTh"
      },
      "execution_count": 36,
      "outputs": []
    },
    {
      "cell_type": "code",
      "source": [
        "input = layers.Input(shape=[], dtype=tf.string, name='model_2_input')\n",
        "pretrained_embedding_layer_model_2 = pretrained_embedding_model_2(input)\n",
        "x = layers.Dense(128, activation='relu')(pretrained_embedding_layer_model_2)\n",
        "output = layers.Dense(5, activation='softmax', name='model_2_output')(x)\n",
        "\n",
        "model_2 = tf.keras.Model(input, output)\n"
      ],
      "metadata": {
        "id": "EKELBFfofqX7"
      },
      "execution_count": 37,
      "outputs": []
    },
    {
      "cell_type": "code",
      "source": [
        "model_2.compile(loss = 'categorical_crossentropy', optimizer=tf.keras.optimizers.Adam(), metrics=['accuracy'])\n",
        "model_2_history = model_2.fit(train_tensors,\n",
        "            epochs= 5,\n",
        "            steps_per_epoch = int(0.1 *len(train_tensors)), #Using only 10% of training data\n",
        "            validation_data = val_tensors,\n",
        "            validation_steps = int(0.1*len(val_tensors))) #Using only 10% of validation data"
      ],
      "metadata": {
        "colab": {
          "base_uri": "https://localhost:8080/"
        },
        "id": "t-meWDCnjLL9",
        "outputId": "b53a8a55-70da-4fda-e045-4d461b711f8a"
      },
      "execution_count": 38,
      "outputs": [
        {
          "output_type": "stream",
          "name": "stdout",
          "text": [
            "Epoch 1/5\n",
            "562/562 [==============================] - 16s 23ms/step - loss: 0.9181 - accuracy: 0.6514 - val_loss: 0.8314 - val_accuracy: 0.6838\n",
            "Epoch 2/5\n",
            "562/562 [==============================] - 12s 22ms/step - loss: 0.7676 - accuracy: 0.7032 - val_loss: 0.7775 - val_accuracy: 0.6978\n",
            "Epoch 3/5\n",
            "562/562 [==============================] - 12s 22ms/step - loss: 0.7512 - accuracy: 0.7117 - val_loss: 0.7533 - val_accuracy: 0.7048\n",
            "Epoch 4/5\n",
            "562/562 [==============================] - 13s 22ms/step - loss: 0.7166 - accuracy: 0.7257 - val_loss: 0.7263 - val_accuracy: 0.7234\n",
            "Epoch 5/5\n",
            "562/562 [==============================] - 12s 22ms/step - loss: 0.7247 - accuracy: 0.7218 - val_loss: 0.7141 - val_accuracy: 0.7261\n"
          ]
        }
      ]
    },
    {
      "cell_type": "code",
      "source": [
        "model_2.evaluate(test_tensors) #[0.800713062286377, 0.6907243132591248]"
      ],
      "metadata": {
        "colab": {
          "base_uri": "https://localhost:8080/"
        },
        "id": "G365ltb8jYJr",
        "outputId": "d31ba96b-ae45-43c4-a0ec-f7b94dba3356"
      },
      "execution_count": 39,
      "outputs": [
        {
          "output_type": "stream",
          "name": "stdout",
          "text": [
            "945/945 [==============================] - 18s 19ms/step - loss: 0.6965 - accuracy: 0.7353\n"
          ]
        },
        {
          "output_type": "execute_result",
          "data": {
            "text/plain": [
              "[0.696549117565155, 0.7352707386016846]"
            ]
          },
          "metadata": {},
          "execution_count": 39
        }
      ]
    },
    {
      "cell_type": "code",
      "source": [
        "model_2_pred_probs = model_2.predict(val_tensors)\n",
        "\n",
        "model_2_preds = np.argmax(model_2_pred_probs, axis=1)\n",
        "\n",
        "model_2_results = calculate_scores(val_labenc_labels, model_2_preds)\n",
        "model_2_results"
      ],
      "metadata": {
        "colab": {
          "base_uri": "https://localhost:8080/"
        },
        "id": "XwzmLtemjlYJ",
        "outputId": "ac8f0494-9d2c-49f8-d75a-840b652623b2"
      },
      "execution_count": 40,
      "outputs": [
        {
          "output_type": "execute_result",
          "data": {
            "text/plain": [
              "{'accuracy': 72.82561805209889,\n",
              " 'f1': 0.7228476516399496,\n",
              " 'precision': 0.7240998331419023,\n",
              " 'recall': 0.7282561805209888}"
            ]
          },
          "metadata": {},
          "execution_count": 40
        }
      ]
    },
    {
      "cell_type": "markdown",
      "source": [
        "**Model 3: Deep learning with character tokenization and embedding**\n",
        "\n",
        "---\n",
        "\n"
      ],
      "metadata": {
        "id": "ddlQB1rjIitd"
      }
    },
    {
      "cell_type": "markdown",
      "source": [
        "Building character level tokenization and embeddings"
      ],
      "metadata": {
        "id": "5vGd099EdJL5"
      }
    },
    {
      "cell_type": "code",
      "source": [
        "def split_sent(sentence):\n",
        "  return \" \".join(list(sentence))\n",
        "\n",
        "train_char = [split_sent(sentence) for sentence in train_sentences]\n",
        "val_char = [split_sent(sentence) for sentence in val_sentences]\n",
        "test_char = [split_sent(sentence) for sentence in test_sentences]"
      ],
      "metadata": {
        "id": "hS6z_GHWkC5i"
      },
      "execution_count": 41,
      "outputs": []
    },
    {
      "cell_type": "code",
      "source": [
        "train_char[:3]"
      ],
      "metadata": {
        "colab": {
          "base_uri": "https://localhost:8080/"
        },
        "id": "xASq0TgxWWkx",
        "outputId": "1136e65f-788e-4aaa-e383-b7e283b0e438"
      },
      "execution_count": 42,
      "outputs": [
        {
          "output_type": "execute_result",
          "data": {
            "text/plain": [
              "['T o   i n v e s t i g a t e   t h e   e f f i c a c y   o f   @   w e e k s   o f   d a i l y   l o w - d o s e   o r a l   p r e d n i s o l o n e   i n   i m p r o v i n g   p a i n   ,   m o b i l i t y   ,   a n d   s y s t e m i c   l o w - g r a d e   i n f l a m m a t i o n   i n   t h e   s h o r t   t e r m   a n d   w h e t h e r   t h e   e f f e c t   w o u l d   b e   s u s t a i n e d   a t   @   w e e k s   i n   o l d e r   a d u l t s   w i t h   m o d e r a t e   t o   s e v e r e   k n e e   o s t e o a r t h r i t i s   (   O A   )   .',\n",
              " 'A   t o t a l   o f   @   p a t i e n t s   w i t h   p r i m a r y   k n e e   O A   w e r e   r a n d o m i z e d   @ : @   ;   @   r e c e i v e d   @   m g / d a y   o f   p r e d n i s o l o n e   a n d   @   r e c e i v e d   p l a c e b o   f o r   @   w e e k s   .',\n",
              " 'O u t c o m e   m e a s u r e s   i n c l u d e d   p a i n   r e d u c t i o n   a n d   i m p r o v e m e n t   i n   f u n c t i o n   s c o r e s   a n d   s y s t e m i c   i n f l a m m a t i o n   m a r k e r s   .']"
            ]
          },
          "metadata": {},
          "execution_count": 42
        }
      ]
    },
    {
      "cell_type": "code",
      "source": [
        "train_char_tensors = tf.data.Dataset.from_tensor_slices((train_char, train_onehot_labels)).batch(32).prefetch(tf.data.AUTOTUNE)\n",
        "val_char_tensors = tf.data.Dataset.from_tensor_slices((val_char, val_onehot_labels)).batch(32).prefetch(tf.data.AUTOTUNE)\n",
        "test_char_tensors = tf.data.Dataset.from_tensor_slices((test_char, test_onehot_labels)).batch(32).prefetch(tf.data.AUTOTUNE)"
      ],
      "metadata": {
        "id": "e94CB06GoCmc"
      },
      "execution_count": 43,
      "outputs": []
    },
    {
      "cell_type": "code",
      "source": [
        "import string\n",
        "\n",
        "max_char_tokens = len(string.ascii_letters) + len(string.digits) + len(string.punctuation) +2 #For space and OOV\n",
        "max_char_tokens"
      ],
      "metadata": {
        "colab": {
          "base_uri": "https://localhost:8080/"
        },
        "id": "1MSMEQaxWnSX",
        "outputId": "1fcde039-2055-4117-c86f-95b7ffe4e61a"
      },
      "execution_count": 44,
      "outputs": [
        {
          "output_type": "execute_result",
          "data": {
            "text/plain": [
              "96"
            ]
          },
          "metadata": {},
          "execution_count": 44
        }
      ]
    },
    {
      "cell_type": "code",
      "source": [
        "output_char_sequence_length = int(np.percentile([len(sent) for sent in train_sentences], 95))\n",
        "output_char_sequence_length"
      ],
      "metadata": {
        "colab": {
          "base_uri": "https://localhost:8080/"
        },
        "id": "3-Lc5X4gY7F6",
        "outputId": "8c7bf69f-3ed5-4003-aef5-6f3bd901f01e"
      },
      "execution_count": 45,
      "outputs": [
        {
          "output_type": "execute_result",
          "data": {
            "text/plain": [
              "290"
            ]
          },
          "metadata": {},
          "execution_count": 45
        }
      ]
    },
    {
      "cell_type": "code",
      "source": [
        "character_tokenization_model_3 = layers.TextVectorization(max_tokens = max_char_tokens,\n",
        "                                                          standardize = 'lower_and_strip_punctuation',\n",
        "                                                          output_sequence_length = output_char_sequence_length,\n",
        "                                                          name = 'character_tokenization_model_3')\n",
        "character_tokenization_model_3.adapt(train_sentences)"
      ],
      "metadata": {
        "id": "n_zM2Z6HWt4l"
      },
      "execution_count": 46,
      "outputs": []
    },
    {
      "cell_type": "code",
      "source": [
        "embedding_model_3 = Embedding(\n",
        "    input_dim = max_char_tokens, \n",
        "    output_dim = 64, mask_zero=True, \n",
        "    input_length=output_char_sequence_length,\n",
        "    name = 'character_embedding_layer_model_3')\n"
      ],
      "metadata": {
        "id": "6URr_HHLYmnn"
      },
      "execution_count": 47,
      "outputs": []
    },
    {
      "cell_type": "code",
      "source": [
        "input = layers.Input(shape=(1,), dtype=tf.string, name = 'model_3_input')\n",
        "character_tokenization_layer_model_3 = character_tokenization_model_3(input)\n",
        "embedding_layer_model_3 = embedding_model_3(character_tokenization_layer_model_3)\n",
        "x = layers.Conv1D(filters=15, kernel_size=3, activation='relu')(embedding_layer_model_3)\n",
        "x = layers.GlobalAveragePooling1D()(x)\n",
        "output = layers.Dense(5, activation='softmax', name = 'model_3_output')(x)\n",
        "\n",
        "model_3 = tf.keras.Model(input, output)"
      ],
      "metadata": {
        "id": "6cNAaUOzYp8m"
      },
      "execution_count": 48,
      "outputs": []
    },
    {
      "cell_type": "code",
      "source": [
        "model_3.compile(loss = 'categorical_crossentropy', optimizer=tf.keras.optimizers.Adam(), metrics=['accuracy'])\n",
        "model_3_history = model_3.fit(train_char_tensors,\n",
        "            epochs= 5,\n",
        "            steps_per_epoch = int(0.1 *len(train_char_tensors)), #Using only 10% of training data\n",
        "            validation_data = val_char_tensors,\n",
        "            validation_steps = int(0.1*len(val_char_tensors))) #Using only 10% of validation data\n",
        "      "
      ],
      "metadata": {
        "colab": {
          "base_uri": "https://localhost:8080/"
        },
        "id": "q5mVZCuWd6l-",
        "outputId": "7e0791e7-dc66-4d4b-93e8-0b241592f204"
      },
      "execution_count": 49,
      "outputs": [
        {
          "output_type": "stream",
          "name": "stdout",
          "text": [
            "Epoch 1/5\n",
            "562/562 [==============================] - 6s 10ms/step - loss: 1.4803 - accuracy: 0.3234 - val_loss: 1.4498 - val_accuracy: 0.3228\n",
            "Epoch 2/5\n",
            "562/562 [==============================] - 5s 10ms/step - loss: 1.4572 - accuracy: 0.3486 - val_loss: 1.4453 - val_accuracy: 0.3753\n",
            "Epoch 3/5\n",
            "562/562 [==============================] - 5s 10ms/step - loss: 1.4554 - accuracy: 0.3589 - val_loss: 1.4380 - val_accuracy: 0.3860\n",
            "Epoch 4/5\n",
            "562/562 [==============================] - 5s 9ms/step - loss: 1.4417 - accuracy: 0.3766 - val_loss: 1.4356 - val_accuracy: 0.3810\n",
            "Epoch 5/5\n",
            "562/562 [==============================] - 5s 10ms/step - loss: 1.4408 - accuracy: 0.3784 - val_loss: 1.4291 - val_accuracy: 0.3863\n"
          ]
        }
      ]
    },
    {
      "cell_type": "code",
      "source": [
        "model_3.evaluate(test_char_tensors) #[1.45966637134552, 0.3667629361152649]"
      ],
      "metadata": {
        "colab": {
          "base_uri": "https://localhost:8080/"
        },
        "id": "cFB59vs2eCuI",
        "outputId": "fc4ba0fb-fc83-43fe-ca94-6a601b924e0b"
      },
      "execution_count": 50,
      "outputs": [
        {
          "output_type": "stream",
          "name": "stdout",
          "text": [
            "945/945 [==============================] - 5s 5ms/step - loss: 1.4366 - accuracy: 0.3845\n"
          ]
        },
        {
          "output_type": "execute_result",
          "data": {
            "text/plain": [
              "[1.436615228652954, 0.3845160901546478]"
            ]
          },
          "metadata": {},
          "execution_count": 50
        }
      ]
    },
    {
      "cell_type": "code",
      "source": [
        "model_3_pred_probs = model_3.predict(val_char_tensors)\n",
        "\n",
        "model_3_preds = np.argmax(model_3_pred_probs, axis=1)\n",
        "\n",
        "model_3_results = calculate_scores(val_labenc_labels, model_3_preds)\n",
        "model_3_results"
      ],
      "metadata": {
        "colab": {
          "base_uri": "https://localhost:8080/"
        },
        "id": "W72lQM9ZePfT",
        "outputId": "48f65893-36e7-4174-c5d2-723915a2d3c2"
      },
      "execution_count": 51,
      "outputs": [
        {
          "output_type": "stream",
          "name": "stderr",
          "text": [
            "/usr/local/lib/python3.7/dist-packages/sklearn/metrics/_classification.py:1308: UndefinedMetricWarning: Precision and F-score are ill-defined and being set to 0.0 in labels with no predicted samples. Use `zero_division` parameter to control this behavior.\n",
            "  _warn_prf(average, modifier, msg_start, len(result))\n"
          ]
        },
        {
          "output_type": "execute_result",
          "data": {
            "text/plain": [
              "{'accuracy': 38.58967977434876,\n",
              " 'f1': 0.30490495477779295,\n",
              " 'precision': 0.254996617089741,\n",
              " 'recall': 0.3858967977434876}"
            ]
          },
          "metadata": {},
          "execution_count": 51
        }
      ]
    },
    {
      "cell_type": "markdown",
      "source": [
        "**Model 4: Deep learning with word (transfer learning) and character tokenization and embedding**"
      ],
      "metadata": {
        "id": "GccvSDj8hC5Q"
      }
    },
    {
      "cell_type": "code",
      "source": [
        "#Importing pretrained layer\n",
        "pretrained_embedding_model_4 = hub.KerasLayer(\"https://tfhub.dev/google/universal-sentence-encoder/4\",\n",
        "                                        trainable=False, \n",
        "                                        name=\"universal_sentence_encoder_model_4\")"
      ],
      "metadata": {
        "id": "wmI0QAS2eXm2"
      },
      "execution_count": 52,
      "outputs": []
    },
    {
      "cell_type": "code",
      "source": [
        "#Defining pretrained layer model\n",
        "input_word = layers.Input(shape=[], dtype=tf.string, name='model_4_input_word')\n",
        "pretrained_embedding_layer_model_4 = pretrained_embedding_model_4(input_word)\n",
        "x = layers.Dense(128, activation='relu')(pretrained_embedding_layer_model_4)\n",
        "output_word = layers.Dense(5, activation='softmax', name='model_4_output')(x)\n",
        "\n",
        "model_4_word_embedding = tf.keras.Model(input_word, output_word)"
      ],
      "metadata": {
        "id": "TpNbD1ayhXuE"
      },
      "execution_count": 53,
      "outputs": []
    },
    {
      "cell_type": "code",
      "source": [
        "#Initializing character tokenization\n",
        "character_tokenization_model_4 = layers.TextVectorization(max_tokens = max_char_tokens,\n",
        "                                                          standardize = 'lower_and_strip_punctuation',\n",
        "                                                          output_sequence_length = output_char_sequence_length,\n",
        "                                                          name = 'character_tokenization_model_4')\n",
        "character_tokenization_model_4.adapt(train_sentences)"
      ],
      "metadata": {
        "id": "RlS_uZOzhYMn"
      },
      "execution_count": 54,
      "outputs": []
    },
    {
      "cell_type": "code",
      "source": [
        "#Building character embedding layer\n",
        "embedding_model_4 = Embedding(\n",
        "    input_dim = max_char_tokens, \n",
        "    output_dim = 64, mask_zero=True, \n",
        "    input_length=output_char_sequence_length,\n",
        "    name = 'character_embedding_layer_model_4')\n"
      ],
      "metadata": {
        "id": "98lymyUvhoKw"
      },
      "execution_count": 55,
      "outputs": []
    },
    {
      "cell_type": "code",
      "source": [
        "#Building character embeddign model\n",
        "input_char = layers.Input(shape=(1,), dtype=tf.string, name = 'model_4_input_char')\n",
        "character_tokenization_layer_model_4 = character_tokenization_model_4(input_char)\n",
        "embedding_layer_model_4 = embedding_model_4(character_tokenization_layer_model_4)\n",
        "output_char = layers.Bidirectional(layers.LSTM(25))(embedding_layer_model_4)\n",
        "\n",
        "model_4_character_embedding = tf.keras.Model(input_char, output_char)"
      ],
      "metadata": {
        "id": "VqTC19N2hqbs"
      },
      "execution_count": 56,
      "outputs": []
    },
    {
      "cell_type": "code",
      "source": [
        "#Concatinating both the models\n",
        "concated_layer = tf.keras.layers.Concatenate(name=\"token_char_hybrid\")([model_4_word_embedding.output, model_4_character_embedding.output])"
      ],
      "metadata": {
        "id": "dqdoyVc2iGhA"
      },
      "execution_count": 57,
      "outputs": []
    },
    {
      "cell_type": "code",
      "source": [
        "#Building more layers on top of concate layer\n",
        "x = layers.Dropout(0.5)(concated_layer)\n",
        "x = layers.Dense(200, activation='relu')(x)\n",
        "x = layers.Dropout(0.5)(x)\n",
        "output = layers.Dense(5, activation='softmax')(x)"
      ],
      "metadata": {
        "id": "x_HruppAiu1v"
      },
      "execution_count": 58,
      "outputs": []
    },
    {
      "cell_type": "code",
      "source": [
        "#Defining entire model multiple inputs and single output - multimodal model.\n",
        "model_4 = tf.keras.Model(inputs = [input_char, input_word],\n",
        "                         outputs = output,\n",
        "                         name=\"model_4_token_and_char_embeddings\")"
      ],
      "metadata": {
        "id": "1cfXKeL-i9E4"
      },
      "execution_count": 59,
      "outputs": []
    },
    {
      "cell_type": "code",
      "source": [
        "#compiling the model\n",
        "model_4.compile(loss = 'categorical_crossentropy', optimizer=tf.keras.optimizers.Adam(), metrics=['accuracy'])"
      ],
      "metadata": {
        "id": "dadtlRK8jDwz"
      },
      "execution_count": 60,
      "outputs": []
    },
    {
      "cell_type": "code",
      "source": [
        "#Plotting the model to check for connections\n",
        "from tensorflow.keras.utils import plot_model\n",
        "\n",
        "plot_model(model_4)"
      ],
      "metadata": {
        "colab": {
          "base_uri": "https://localhost:8080/",
          "height": 856
        },
        "id": "LmRY9keBwUKr",
        "outputId": "383b31b0-3716-4260-c186-491d55f0f494"
      },
      "execution_count": 61,
      "outputs": [
        {
          "output_type": "execute_result",
          "data": {
            "image/png": "[encoded data removed]",
            "text/plain": [
              "<IPython.core.display.Image object>"
            ]
          },
          "metadata": {},
          "execution_count": 61
        }
      ]
    },
    {
      "cell_type": "code",
      "source": [
        "#Getting data ready in the forms of tensors\n",
        "train_word_char_tensors = tf.data.Dataset.from_tensor_slices(((train_char, train_sentences), (train_onehot_labels))).batch(32).prefetch(tf.data.AUTOTUNE)\n",
        "test_word_char_tensors = tf.data.Dataset.from_tensor_slices(((test_char, test_sentences), (test_onehot_labels))).batch(32).prefetch(tf.data.AUTOTUNE)\n",
        "val_word_char_tensors = tf.data.Dataset.from_tensor_slices(((val_char, val_sentences), (val_onehot_labels))).batch(32).prefetch(tf.data.AUTOTUNE)"
      ],
      "metadata": {
        "id": "jXPNLGTTjW-v"
      },
      "execution_count": 62,
      "outputs": []
    },
    {
      "cell_type": "code",
      "source": [
        "train_word_char_tensors"
      ],
      "metadata": {
        "colab": {
          "base_uri": "https://localhost:8080/"
        },
        "id": "7tsuatUNjsxm",
        "outputId": "aafa1d3b-8d53-42a0-9663-50f91d2834e3"
      },
      "execution_count": 63,
      "outputs": [
        {
          "output_type": "execute_result",
          "data": {
            "text/plain": [
              "<PrefetchDataset shapes: (((None,), (None,)), (None, 5)), types: ((tf.string, tf.string), tf.float64)>"
            ]
          },
          "metadata": {},
          "execution_count": 63
        }
      ]
    },
    {
      "cell_type": "code",
      "source": [
        "#Fitting model\n",
        "model_4_history = model_4.fit(train_word_char_tensors,\n",
        "                              epochs = 5,\n",
        "                              steps_per_epoch = int(0.1*len(train_word_char_tensors)),\n",
        "                              validation_data = val_word_char_tensors,\n",
        "                              validation_steps = int(0.1*len(val_word_char_tensors)))"
      ],
      "metadata": {
        "colab": {
          "base_uri": "https://localhost:8080/"
        },
        "id": "mPftT99ejuzD",
        "outputId": "cee9ff9e-a352-4adf-ac4a-536d98a55682"
      },
      "execution_count": 64,
      "outputs": [
        {
          "output_type": "stream",
          "name": "stdout",
          "text": [
            "Epoch 1/5\n",
            "562/562 [==============================] - 90s 138ms/step - loss: 1.2577 - accuracy: 0.4857 - val_loss: 0.9889 - val_accuracy: 0.6383\n",
            "Epoch 2/5\n",
            "562/562 [==============================] - 75s 133ms/step - loss: 1.0964 - accuracy: 0.5560 - val_loss: 0.9605 - val_accuracy: 0.6556\n",
            "Epoch 3/5\n",
            "562/562 [==============================] - 70s 124ms/step - loss: 1.0738 - accuracy: 0.5715 - val_loss: 0.9648 - val_accuracy: 0.6626\n",
            "Epoch 4/5\n",
            "562/562 [==============================] - 76s 136ms/step - loss: 1.0373 - accuracy: 0.5971 - val_loss: 0.9374 - val_accuracy: 0.6818\n",
            "Epoch 5/5\n",
            "562/562 [==============================] - 72s 128ms/step - loss: 1.0254 - accuracy: 0.5969 - val_loss: 0.9555 - val_accuracy: 0.6858\n"
          ]
        }
      ]
    },
    {
      "cell_type": "code",
      "source": [
        "#Evaluation\n",
        "model_4.evaluate(test_word_char_tensors) #[0.9869252443313599, 0.6193234920501709]"
      ],
      "metadata": {
        "colab": {
          "base_uri": "https://localhost:8080/"
        },
        "id": "B6wX9H93kBh-",
        "outputId": "75394bf2-7eec-4df9-ff1a-6ee951719a79"
      },
      "execution_count": 65,
      "outputs": [
        {
          "output_type": "stream",
          "name": "stdout",
          "text": [
            "945/945 [==============================] - 54s 57ms/step - loss: 0.9570 - accuracy: 0.6851\n"
          ]
        },
        {
          "output_type": "execute_result",
          "data": {
            "text/plain": [
              "[0.9570454955101013, 0.6851251125335693]"
            ]
          },
          "metadata": {},
          "execution_count": 65
        }
      ]
    },
    {
      "cell_type": "code",
      "source": [
        "#predicting\n",
        "model_4_pred_probs = model_4.predict(val_word_char_tensors)\n",
        "\n",
        "model_4_preds = np.argmax(model_4_pred_probs, axis=1)\n",
        "\n",
        "model_4_results = calculate_scores(val_labenc_labels, model_4_preds)\n",
        "model_4_results"
      ],
      "metadata": {
        "colab": {
          "base_uri": "https://localhost:8080/"
        },
        "id": "sE04iWh-kR3x",
        "outputId": "b52c3080-33be-493e-da43-d0196a63e8f0"
      },
      "execution_count": 66,
      "outputs": [
        {
          "output_type": "execute_result",
          "data": {
            "text/plain": [
              "{'accuracy': 67.88451966152314,\n",
              " 'f1': 0.6620600534111222,\n",
              " 'precision': 0.6734068017656389,\n",
              " 'recall': 0.6788451966152315}"
            ]
          },
          "metadata": {},
          "execution_count": 66
        }
      ]
    },
    {
      "cell_type": "markdown",
      "source": [
        "**Model 5: Deep learning with word (transfer learning), character and positional embedding.**"
      ],
      "metadata": {
        "id": "xORABT3CpBKT"
      }
    },
    {
      "cell_type": "code",
      "source": [
        "#importing pretrained layers\n",
        "pretrained_embedding_model_5 = hub.KerasLayer(\"https://tfhub.dev/google/universal-sentence-encoder/4\",\n",
        "                                        trainable=False, \n",
        "                                        name=\"universal_sentence_encoder_model_5\")"
      ],
      "metadata": {
        "id": "Ion3gVXIkYDf"
      },
      "execution_count": 67,
      "outputs": []
    },
    {
      "cell_type": "code",
      "source": [
        "#defining pretrained layer model for word embeddings\n",
        "input_word = layers.Input(shape=[], dtype=tf.string, name='model_5_input_word')\n",
        "pretrained_embedding_layer_model_5 = pretrained_embedding_model_5(input_word)\n",
        "x = layers.Dense(128, activation='relu')(pretrained_embedding_layer_model_5)\n",
        "output_word = layers.Dense(5, activation='softmax', name='model_5_output')(x)\n",
        "\n",
        "model_5_word_embedding = tf.keras.Model(input_word, output_word)"
      ],
      "metadata": {
        "id": "a2exiuGQrWZl"
      },
      "execution_count": 68,
      "outputs": []
    },
    {
      "cell_type": "code",
      "source": [
        "#Inititalizing character level tokeniztion\n",
        "character_tokenization_model_5 = layers.TextVectorization(max_tokens = max_char_tokens,\n",
        "                                                          standardize = 'lower_and_strip_punctuation',\n",
        "                                                          output_sequence_length = output_char_sequence_length,\n",
        "                                                          name = 'character_tokenization_model_5')\n",
        "character_tokenization_model_5.adapt(train_sentences)"
      ],
      "metadata": {
        "id": "A4yWc_MAreJo"
      },
      "execution_count": 69,
      "outputs": []
    },
    {
      "cell_type": "code",
      "source": [
        "#Defning character embedding layer and the model\n",
        "embedding_model_5 = Embedding(\n",
        "    input_dim = max_char_tokens, \n",
        "    output_dim = 64, mask_zero=True, \n",
        "    input_length=output_char_sequence_length,\n",
        "    name = 'character_embedding_layer_model_5')\n",
        "\n",
        "input_char = layers.Input(shape=(1,), dtype=tf.string, name = 'model_5_input_char')\n",
        "character_tokenization_layer_model_5 = character_tokenization_model_5(input_char)\n",
        "embedding_layer_model_5 = embedding_model_4(character_tokenization_layer_model_5)\n",
        "output_char = layers.Bidirectional(layers.LSTM(25))(embedding_layer_model_5)\n",
        "\n",
        "model_5_character_embedding = tf.keras.Model(input_char, output_char)"
      ],
      "metadata": {
        "id": "k2Srqr_krjAq"
      },
      "execution_count": 70,
      "outputs": []
    },
    {
      "cell_type": "code",
      "source": [
        "#Concatinating the word and character embedding models\n",
        "concated_layer = tf.keras.layers.Concatenate(name=\"token_char_hybrid\")([model_5_word_embedding.output, model_5_character_embedding.output])"
      ],
      "metadata": {
        "id": "R291zEiFrx3-"
      },
      "execution_count": 71,
      "outputs": []
    },
    {
      "cell_type": "code",
      "source": [
        "train_df['Line_number'].hist()\n",
        "train_df['Line_number'].value_counts()"
      ],
      "metadata": {
        "colab": {
          "base_uri": "https://localhost:8080/",
          "height": 821
        },
        "id": "EH2TzJNms1Iu",
        "outputId": "e4b3f3f1-67bc-446c-e855-bcb072997ca9"
      },
      "execution_count": 72,
      "outputs": [
        {
          "output_type": "execute_result",
          "data": {
            "text/plain": [
              "0     15000\n",
              "1     15000\n",
              "2     15000\n",
              "3     15000\n",
              "4     14992\n",
              "5     14949\n",
              "6     14758\n",
              "7     14279\n",
              "8     13346\n",
              "9     11981\n",
              "10    10041\n",
              "11     7892\n",
              "12     5853\n",
              "13     4152\n",
              "14     2835\n",
              "15     1861\n",
              "16     1188\n",
              "17      751\n",
              "18      462\n",
              "19      286\n",
              "20      162\n",
              "21      101\n",
              "22       66\n",
              "23       33\n",
              "24       22\n",
              "25       14\n",
              "26        7\n",
              "27        4\n",
              "28        3\n",
              "29        1\n",
              "30        1\n",
              "Name: Line_number, dtype: int64"
            ]
          },
          "metadata": {},
          "execution_count": 72
        },
        {
          "output_type": "display_data",
          "data": {
            "image/png": "[encoded data removed]",
            "text/plain": [
              "<Figure size 432x288 with 1 Axes>"
            ]
          },
          "metadata": {
            "needs_background": "light"
          }
        }
      ]
    },
    {
      "cell_type": "code",
      "source": [
        "#Getting one hot tensors for line number of abstracts\n",
        "train_line_number_onehot = tf.one_hot(train_df['Line_number'], \n",
        "                                      depth = 15, #based on data distribution\n",
        "                                        )\n",
        "\n",
        "val_line_number_onehot = tf.one_hot(val_df['Line_number'], \n",
        "                                      depth = 15, #based on data distribution\n",
        "                                        )\n",
        "\n",
        "test_line_number_onehot = tf.one_hot(test_df['Line_number'], \n",
        "                                      depth = 15, #based on data distribution\n",
        "                                        )\n",
        "train_line_number_onehot"
      ],
      "metadata": {
        "colab": {
          "base_uri": "https://localhost:8080/"
        },
        "id": "UY2Pmgm0r6qZ",
        "outputId": "5327b6d8-d547-433e-e0e1-54f12161c980"
      },
      "execution_count": 73,
      "outputs": [
        {
          "output_type": "execute_result",
          "data": {
            "text/plain": [
              "<tf.Tensor: shape=(180040, 15), dtype=float32, numpy=\n",
              "array([[1., 0., 0., ..., 0., 0., 0.],\n",
              "       [0., 1., 0., ..., 0., 0., 0.],\n",
              "       [0., 0., 1., ..., 0., 0., 0.],\n",
              "       ...,\n",
              "       [0., 0., 0., ..., 0., 0., 0.],\n",
              "       [0., 0., 0., ..., 0., 0., 0.],\n",
              "       [0., 0., 0., ..., 0., 0., 0.]], dtype=float32)>"
            ]
          },
          "metadata": {},
          "execution_count": 73
        }
      ]
    },
    {
      "cell_type": "code",
      "source": [
        "#Defining model for line numbers\n",
        "input_line_number = layers.Input(shape=(15,), dtype=tf.float32, name = 'model_5_input_line_number')\n",
        "x = layers.Dense(32, activation=\"relu\")(input_line_number)\n",
        "model_5_line_number = tf.keras.Model(inputs=input_line_number,\n",
        "                                   outputs=x)"
      ],
      "metadata": {
        "id": "XyUMhap6tuLM"
      },
      "execution_count": 74,
      "outputs": []
    },
    {
      "cell_type": "code",
      "source": [
        "train_df['total_lines'].hist()"
      ],
      "metadata": {
        "colab": {
          "base_uri": "https://localhost:8080/",
          "height": 285
        },
        "id": "NG7dIXIyu0PI",
        "outputId": "7f065822-33cd-4482-f0dc-083b075e14ea"
      },
      "execution_count": 75,
      "outputs": [
        {
          "output_type": "execute_result",
          "data": {
            "text/plain": [
              "<matplotlib.axes._subplots.AxesSubplot at 0x7fc3f85c72d0>"
            ]
          },
          "metadata": {},
          "execution_count": 75
        },
        {
          "output_type": "display_data",
          "data": {
            "image/png": "[encoded data removed]",
            "text/plain": [
              "<Figure size 432x288 with 1 Axes>"
            ]
          },
          "metadata": {
            "needs_background": "light"
          }
        }
      ]
    },
    {
      "cell_type": "code",
      "source": [
        "#Getting tensors for total lines of abstracts\n",
        "train_total_lines_onehot = tf.one_hot(\n",
        "    train_df['total_lines'], \n",
        "    depth = 20, #based on data distribution\n",
        "   )\n",
        "\n",
        "val_total_lines_onehot = tf.one_hot(\n",
        "    val_df['total_lines'], \n",
        "    depth = 20, #based on data distribution\n",
        "   )\n",
        "\n",
        "test_total_lines_onehot = tf.one_hot(\n",
        "    test_df['total_lines'], \n",
        "    depth = 20, #based on data distribution\n",
        "   )\n",
        "\n",
        "train_total_lines_onehot"
      ],
      "metadata": {
        "colab": {
          "base_uri": "https://localhost:8080/"
        },
        "id": "m2HGrEBwufGs",
        "outputId": "76851c8b-b73c-4941-cb40-9221462605d6"
      },
      "execution_count": 76,
      "outputs": [
        {
          "output_type": "execute_result",
          "data": {
            "text/plain": [
              "<tf.Tensor: shape=(180040, 20), dtype=float32, numpy=\n",
              "array([[0., 0., 0., ..., 0., 0., 0.],\n",
              "       [0., 0., 0., ..., 0., 0., 0.],\n",
              "       [0., 0., 0., ..., 0., 0., 0.],\n",
              "       ...,\n",
              "       [0., 0., 0., ..., 0., 0., 0.],\n",
              "       [0., 0., 0., ..., 0., 0., 0.],\n",
              "       [0., 0., 0., ..., 0., 0., 0.]], dtype=float32)>"
            ]
          },
          "metadata": {},
          "execution_count": 76
        }
      ]
    },
    {
      "cell_type": "code",
      "source": [
        "#Defning model for total lines\n",
        "input_total_lines = layers.Input(shape=(20,), dtype=tf.float32, name = 'model_5_input_total_lines')\n",
        "y = layers.Dense(32, activation=\"relu\")(input_total_lines)\n",
        "model_5_total_lines = tf.keras.Model(inputs=input_total_lines,\n",
        "                                   outputs=y)"
      ],
      "metadata": {
        "id": "hBSv3boyupx8"
      },
      "execution_count": 77,
      "outputs": []
    },
    {
      "cell_type": "code",
      "source": [
        "#Concatinating all the three models\n",
        "z = layers.Dense(256, activation=\"relu\")(concated_layer)\n",
        "z = layers.Dropout(0.5)(z)\n",
        "\n",
        "concated_final_layer = tf.keras.layers.Concatenate(name=\"token_char_line_hybrid\")([model_5_line_number.output, \n",
        "                                                                                   model_5_total_lines.output,\n",
        "                                                                                   z])"
      ],
      "metadata": {
        "id": "UnPIkhOWurMv"
      },
      "execution_count": 78,
      "outputs": []
    },
    {
      "cell_type": "code",
      "source": [
        "#Defining the output layer\n",
        "output_layer = layers.Dense(5, activation=\"softmax\", name=\"output_layer_model_5\")(concated_final_layer)"
      ],
      "metadata": {
        "id": "0dWSJijyvX9k"
      },
      "execution_count": 79,
      "outputs": []
    },
    {
      "cell_type": "code",
      "source": [
        "#Defining the model inputs and outputs \n",
        "model_5 = tf.keras.Model([input_word,\n",
        "                          input_char,\n",
        "                          input_line_number,\n",
        "                          input_total_lines], output_layer)"
      ],
      "metadata": {
        "id": "3_mC1KcAvz1O"
      },
      "execution_count": 80,
      "outputs": []
    },
    {
      "cell_type": "code",
      "source": [
        "#plotting the model to chech the connections\n",
        "from tensorflow.keras.utils import plot_model\n",
        "\n",
        "plot_model(model_5)"
      ],
      "metadata": {
        "colab": {
          "base_uri": "https://localhost:8080/",
          "height": 770
        },
        "id": "yjglSJQdwC8f",
        "outputId": "f8147ea0-e3bc-4bc5-8a4d-1df89b1f5e50"
      },
      "execution_count": 81,
      "outputs": [
        {
          "output_type": "execute_result",
          "data": {
            "image/png": "[encoded data removed]",
            "text/plain": [
              "<IPython.core.display.Image object>"
            ]
          },
          "metadata": {},
          "execution_count": 81
        }
      ]
    },
    {
      "cell_type": "code",
      "source": [
        "#Compiling the model\n",
        "model_5.compile(loss = 'categorical_crossentropy', optimizer=tf.keras.optimizers.Adam(), metrics=['accuracy'])"
      ],
      "metadata": {
        "id": "-xGEDvjWwO7c"
      },
      "execution_count": 82,
      "outputs": []
    },
    {
      "cell_type": "code",
      "source": [
        "#Getting data ready in the form of tensors\n",
        "train_word_char_line_tensors = tf.data.Dataset.from_tensor_slices(((train_sentences, train_char, train_line_number_onehot, train_total_lines_onehot), (train_onehot_labels))).batch(32).prefetch(tf.data.AUTOTUNE)\n",
        "test_word_char_line_tensors = tf.data.Dataset.from_tensor_slices(((test_sentences, test_char, test_line_number_onehot, test_total_lines_onehot), (test_onehot_labels))).batch(32).prefetch(tf.data.AUTOTUNE)\n",
        "val_word_char_line_tensors = tf.data.Dataset.from_tensor_slices(((val_sentences, val_char, val_line_number_onehot, val_total_lines_onehot), (val_onehot_labels))).batch(32).prefetch(tf.data.AUTOTUNE)"
      ],
      "metadata": {
        "id": "OBom_UQkwfio"
      },
      "execution_count": 83,
      "outputs": []
    },
    {
      "cell_type": "code",
      "source": [
        "#Fitting the model\n",
        "model_5_history = model_5.fit(train_word_char_line_tensors,\n",
        "                              epochs = 5,\n",
        "                              steps_per_epoch = int(0.1*len(train_word_char_line_tensors)),\n",
        "                              validation_data = val_word_char_line_tensors,\n",
        "                              validation_steps = int(0.1*len(val_word_char_line_tensors)))"
      ],
      "metadata": {
        "colab": {
          "base_uri": "https://localhost:8080/"
        },
        "id": "VeLaMWfvxIGE",
        "outputId": "13971946-5e79-4d5a-c842-86732e291bc4"
      },
      "execution_count": 84,
      "outputs": [
        {
          "output_type": "stream",
          "name": "stdout",
          "text": [
            "Epoch 1/5\n",
            "562/562 [==============================] - 92s 141ms/step - loss: 0.8543 - accuracy: 0.6695 - val_loss: 0.6499 - val_accuracy: 0.7443\n",
            "Epoch 2/5\n",
            "562/562 [==============================] - 76s 136ms/step - loss: 0.5637 - accuracy: 0.7760 - val_loss: 0.5531 - val_accuracy: 0.7806\n",
            "Epoch 3/5\n",
            "562/562 [==============================] - 72s 128ms/step - loss: 0.5149 - accuracy: 0.7896 - val_loss: 0.5335 - val_accuracy: 0.7872\n",
            "Epoch 4/5\n",
            "562/562 [==============================] - 78s 139ms/step - loss: 0.4970 - accuracy: 0.8039 - val_loss: 0.4937 - val_accuracy: 0.8112\n",
            "Epoch 5/5\n",
            "562/562 [==============================] - 73s 130ms/step - loss: 0.4793 - accuracy: 0.8085 - val_loss: 0.4786 - val_accuracy: 0.8168\n"
          ]
        }
      ]
    },
    {
      "cell_type": "code",
      "source": [
        "#Making predictions\n",
        "model_5_pred_probs = model_5.predict(val_word_char_line_tensors, verbose=1)\n",
        "model_5_pred_probs"
      ],
      "metadata": {
        "colab": {
          "base_uri": "https://localhost:8080/"
        },
        "id": "0oXgR6ItzB_c",
        "outputId": "d499cd50-6e26-4469-a207-53be4999c791"
      },
      "execution_count": 85,
      "outputs": [
        {
          "output_type": "stream",
          "name": "stdout",
          "text": [
            "942/942 [==============================] - 55s 54ms/step\n"
          ]
        },
        {
          "output_type": "execute_result",
          "data": {
            "text/plain": [
              "array([[2.6988989e-01, 5.2664713e-03, 7.5959298e-03, 7.1465850e-01,\n",
              "        2.5891832e-03],\n",
              "       [4.1182235e-01, 5.4733325e-03, 2.9218683e-01, 2.8507364e-01,\n",
              "        5.4438184e-03],\n",
              "       [3.7397447e-03, 1.7503159e-04, 9.7711176e-01, 9.5434915e-03,\n",
              "        9.4298953e-03],\n",
              "       ...,\n",
              "       [2.5878493e-03, 4.2193417e-02, 1.9370049e-02, 1.4842948e-04,\n",
              "        9.3570024e-01],\n",
              "       [8.4134834e-03, 7.1293630e-02, 6.6937327e-02, 3.6195360e-04,\n",
              "        8.5299361e-01],\n",
              "       [5.6398392e-02, 2.9883283e-01, 2.4519530e-01, 5.2421149e-03,\n",
              "        3.9433137e-01]], dtype=float32)"
            ]
          },
          "metadata": {},
          "execution_count": 85
        }
      ]
    },
    {
      "cell_type": "code",
      "source": [
        "#Evaluating\n",
        "model_5.evaluate(test_word_char_line_tensors) #[0.45094603300094604, 0.8211637735366821]"
      ],
      "metadata": {
        "colab": {
          "base_uri": "https://localhost:8080/"
        },
        "id": "OKUBihCG01FK",
        "outputId": "478496c5-f268-4f18-f7f3-a0e5ed3b9133"
      },
      "execution_count": 86,
      "outputs": [
        {
          "output_type": "stream",
          "name": "stdout",
          "text": [
            "945/945 [==============================] - 50s 53ms/step - loss: 0.4509 - accuracy: 0.8212\n"
          ]
        },
        {
          "output_type": "execute_result",
          "data": {
            "text/plain": [
              "[0.45094603300094604, 0.8211637735366821]"
            ]
          },
          "metadata": {},
          "execution_count": 86
        }
      ]
    },
    {
      "cell_type": "code",
      "source": [
        "#Calculating scores\n",
        "model_5_preds = np.argmax(model_5_pred_probs, axis=1)\n",
        "\n",
        "model_5_results = calculate_scores(val_labenc_labels, model_5_preds)\n",
        "model_5_results"
      ],
      "metadata": {
        "colab": {
          "base_uri": "https://localhost:8080/"
        },
        "id": "ZHAKhk3B0-kc",
        "outputId": "d4cd7a18-c407-473c-87df-f39b43e4da32"
      },
      "execution_count": 87,
      "outputs": [
        {
          "output_type": "execute_result",
          "data": {
            "text/plain": [
              "{'accuracy': 81.50655384104861,\n",
              " 'f1': 0.8103352647547666,\n",
              " 'precision': 0.8144710112358302,\n",
              " 'recall': 0.8150655384104861}"
            ]
          },
          "metadata": {},
          "execution_count": 87
        }
      ]
    },
    {
      "cell_type": "markdown",
      "source": [
        "82% accuracy is by far the best performance.\n",
        "\n",
        "Let's now compare all the models "
      ],
      "metadata": {
        "id": "pl6mOmx3DKq_"
      }
    },
    {
      "cell_type": "code",
      "source": [
        "all_models_results = pd.DataFrame({\n",
        "    'base_line_model': model_0_results,\n",
        "    'word_embedding': model_1_results,\n",
        "    'pretrained_word_embedding':model_2_results,\n",
        "    'character_embedding': model_3_results,\n",
        "    'word_char_embedding': model_4_results,\n",
        "    'word_char_line_embedding': model_5_results\n",
        "})\n",
        "\n",
        "all_models_results = all_models_results.transpose()\n",
        "all_models_results['accuracy'] = all_models_results['accuracy']/100\n",
        "all_models_results"
      ],
      "metadata": {
        "colab": {
          "base_uri": "https://localhost:8080/",
          "height": 237
        },
        "id": "gXRnQUvW9d1g",
        "outputId": "10ae5c35-f4ea-480b-f00d-52f22e47f866"
      },
      "execution_count": 96,
      "outputs": [
        {
          "output_type": "execute_result",
          "data": {
            "text/html": [
              "<div>\n",
              "<style scoped>\n",
              "    .dataframe tbody tr th:only-of-type {\n",
              "        vertical-align: middle;\n",
              "    }\n",
              "\n",
              "    .dataframe tbody tr th {\n",
              "        vertical-align: top;\n",
              "    }\n",
              "\n",
              "    .dataframe thead th {\n",
              "        text-align: right;\n",
              "    }\n",
              "</style>\n",
              "<table border=\"1\" class=\"dataframe\">\n",
              "  <thead>\n",
              "    <tr style=\"text-align: right;\">\n",
              "      <th></th>\n",
              "      <th>accuracy</th>\n",
              "      <th>precision</th>\n",
              "      <th>recall</th>\n",
              "      <th>f1</th>\n",
              "    </tr>\n",
              "  </thead>\n",
              "  <tbody>\n",
              "    <tr>\n",
              "      <th>base_line_model</th>\n",
              "      <td>0.716675</td>\n",
              "      <td>0.712432</td>\n",
              "      <td>0.716675</td>\n",
              "      <td>0.692510</td>\n",
              "    </tr>\n",
              "    <tr>\n",
              "      <th>word_embedding</th>\n",
              "      <td>0.773519</td>\n",
              "      <td>0.772169</td>\n",
              "      <td>0.773519</td>\n",
              "      <td>0.767615</td>\n",
              "    </tr>\n",
              "    <tr>\n",
              "      <th>pretrained_word_embedding</th>\n",
              "      <td>0.728256</td>\n",
              "      <td>0.724100</td>\n",
              "      <td>0.728256</td>\n",
              "      <td>0.722848</td>\n",
              "    </tr>\n",
              "    <tr>\n",
              "      <th>character_embedding</th>\n",
              "      <td>0.385897</td>\n",
              "      <td>0.254997</td>\n",
              "      <td>0.385897</td>\n",
              "      <td>0.304905</td>\n",
              "    </tr>\n",
              "    <tr>\n",
              "      <th>word_char_embedding</th>\n",
              "      <td>0.678845</td>\n",
              "      <td>0.673407</td>\n",
              "      <td>0.678845</td>\n",
              "      <td>0.662060</td>\n",
              "    </tr>\n",
              "    <tr>\n",
              "      <th>word_char_line_embedding</th>\n",
              "      <td>0.815066</td>\n",
              "      <td>0.814471</td>\n",
              "      <td>0.815066</td>\n",
              "      <td>0.810335</td>\n",
              "    </tr>\n",
              "  </tbody>\n",
              "</table>\n",
              "</div>"
            ],
            "text/plain": [
              "                           accuracy  precision    recall        f1\n",
              "base_line_model            0.716675   0.712432  0.716675  0.692510\n",
              "word_embedding             0.773519   0.772169  0.773519  0.767615\n",
              "pretrained_word_embedding  0.728256   0.724100  0.728256  0.722848\n",
              "character_embedding        0.385897   0.254997  0.385897  0.304905\n",
              "word_char_embedding        0.678845   0.673407  0.678845  0.662060\n",
              "word_char_line_embedding   0.815066   0.814471  0.815066  0.810335"
            ]
          },
          "metadata": {},
          "execution_count": 96
        }
      ]
    },
    {
      "cell_type": "markdown",
      "source": [
        "It can be see that the final model performed the best in all the scores"
      ],
      "metadata": {
        "id": "oqB5cGv0Eg3b"
      }
    },
    {
      "cell_type": "code",
      "source": [
        "all_models_results.plot(kind = 'bar', figsize = (10,7)).legend(bbox_to_anchor=(1.0, 1.0));"
      ],
      "metadata": {
        "colab": {
          "base_uri": "https://localhost:8080/",
          "height": 562
        },
        "id": "HUYN34HiEWxp",
        "outputId": "262a607b-3b4c-46a6-d809-e4b4955f587a"
      },
      "execution_count": 99,
      "outputs": [
        {
          "output_type": "display_data",
          "data": {
            "image/png": "[encoded data removed]",
            "text/plain": [
              "<Figure size 720x504 with 1 Axes>"
            ]
          },
          "metadata": {
            "needs_background": "light"
          }
        }
      ]
    },
    {
      "cell_type": "code",
      "source": [
        "#Saving the best performing model\n",
        "model_5.save(\"skimlit_model\")"
      ],
      "metadata": {
        "colab": {
          "base_uri": "https://localhost:8080/"
        },
        "id": "cSvEMXTAE0oE",
        "outputId": "f333b59d-7e90-4911-bee9-c609576c45d9"
      },
      "execution_count": 106,
      "outputs": [
        {
          "output_type": "stream",
          "name": "stderr",
          "text": [
            "WARNING:absl:Found untraced functions such as lstm_cell_4_layer_call_fn, lstm_cell_4_layer_call_and_return_conditional_losses, lstm_cell_5_layer_call_fn, lstm_cell_5_layer_call_and_return_conditional_losses, lstm_cell_4_layer_call_fn while saving (showing 5 of 10). These functions will not be directly callable after loading.\n"
          ]
        },
        {
          "output_type": "stream",
          "name": "stdout",
          "text": [
            "INFO:tensorflow:Assets written to: skimlit_tribrid_model/assets\n"
          ]
        },
        {
          "output_type": "stream",
          "name": "stderr",
          "text": [
            "INFO:tensorflow:Assets written to: skimlit_tribrid_model/assets\n",
            "WARNING:absl:<keras.layers.recurrent.LSTMCell object at 0x7fc3ee32cad0> has the same name 'LSTMCell' as a built-in Keras object. Consider renaming <class 'keras.layers.recurrent.LSTMCell'> to avoid naming conflicts when loading with `tf.keras.models.load_model`. If renaming is not possible, pass the object in the `custom_objects` parameter of the load function.\n",
            "WARNING:absl:<keras.layers.recurrent.LSTMCell object at 0x7fc3ee333610> has the same name 'LSTMCell' as a built-in Keras object. Consider renaming <class 'keras.layers.recurrent.LSTMCell'> to avoid naming conflicts when loading with `tf.keras.models.load_model`. If renaming is not possible, pass the object in the `custom_objects` parameter of the load function.\n"
          ]
        }
      ]
    },
    {
      "cell_type": "code",
      "source": [
        "#finding the mosst wronf predictions\n",
        "model_5_test_preds_probs = model_5.predict(test_word_char_line_tensors, verbose=1)\n",
        "model_5_test_preds = np.argmax(model_5_test_preds_probs, axis=1)\n",
        "test_pred_classes = [labelencoder.classes_[pred] for pred in model_5_test_preds]\n",
        "test_pred_classes"
      ],
      "metadata": {
        "colab": {
          "base_uri": "https://localhost:8080/"
        },
        "id": "BZnxVp7tGUI9",
        "outputId": "e012bfe1-295c-4b07-db41-a55543cf0b8b"
      },
      "execution_count": 118,
      "outputs": [
        {
          "output_type": "stream",
          "name": "stdout",
          "text": [
            "945/945 [==============================] - 52s 55ms/step\n"
          ]
        },
        {
          "output_type": "execute_result",
          "data": {
            "text/plain": [
              "['BACKGROUND',\n",
              " 'BACKGROUND',\n",
              " 'BACKGROUND',\n",
              " 'METHODS',\n",
              " 'METHODS',\n",
              " 'RESULTS',\n",
              " 'RESULTS',\n",
              " 'RESULTS',\n",
              " 'RESULTS',\n",
              " 'CONCLUSIONS',\n",
              " 'BACKGROUND',\n",
              " 'BACKGROUND',\n",
              " 'BACKGROUND',\n",
              " 'BACKGROUND',\n",
              " 'METHODS',\n",
              " 'METHODS',\n",
              " 'RESULTS',\n",
              " 'RESULTS',\n",
              " 'RESULTS',\n",
              " 'RESULTS',\n",
              " 'CONCLUSIONS',\n",
              " 'BACKGROUND',\n",
              " 'BACKGROUND',\n",
              " 'BACKGROUND',\n",
              " 'METHODS',\n",
              " 'BACKGROUND',\n",
              " 'RESULTS',\n",
              " 'METHODS',\n",
              " 'METHODS',\n",
              " 'RESULTS',\n",
              " 'CONCLUSIONS',\n",
              " 'CONCLUSIONS',\n",
              " 'BACKGROUND',\n",
              " 'BACKGROUND',\n",
              " 'BACKGROUND',\n",
              " 'METHODS',\n",
              " 'METHODS',\n",
              " 'METHODS',\n",
              " 'RESULTS',\n",
              " 'RESULTS',\n",
              " 'CONCLUSIONS',\n",
              " 'CONCLUSIONS',\n",
              " 'BACKGROUND',\n",
              " 'BACKGROUND',\n",
              " 'BACKGROUND',\n",
              " 'BACKGROUND',\n",
              " 'METHODS',\n",
              " 'METHODS',\n",
              " 'RESULTS',\n",
              " 'METHODS',\n",
              " 'METHODS',\n",
              " 'RESULTS',\n",
              " 'RESULTS',\n",
              " 'CONCLUSIONS',\n",
              " 'RESULTS',\n",
              " 'CONCLUSIONS',\n",
              " 'RESULTS',\n",
              " 'CONCLUSIONS',\n",
              " 'OBJECTIVE',\n",
              " 'BACKGROUND',\n",
              " 'OBJECTIVE',\n",
              " 'METHODS',\n",
              " 'METHODS',\n",
              " 'METHODS',\n",
              " 'METHODS',\n",
              " 'RESULTS',\n",
              " 'RESULTS',\n",
              " 'BACKGROUND',\n",
              " 'METHODS',\n",
              " 'METHODS',\n",
              " 'METHODS',\n",
              " 'METHODS',\n",
              " 'RESULTS',\n",
              " 'RESULTS',\n",
              " 'RESULTS',\n",
              " 'RESULTS',\n",
              " 'RESULTS',\n",
              " 'RESULTS',\n",
              " 'BACKGROUND',\n",
              " 'OBJECTIVE',\n",
              " 'METHODS',\n",
              " 'METHODS',\n",
              " 'METHODS',\n",
              " 'METHODS',\n",
              " 'RESULTS',\n",
              " 'METHODS',\n",
              " 'RESULTS',\n",
              " 'RESULTS',\n",
              " 'RESULTS',\n",
              " 'RESULTS',\n",
              " 'RESULTS',\n",
              " 'CONCLUSIONS',\n",
              " 'OBJECTIVE',\n",
              " 'METHODS',\n",
              " 'METHODS',\n",
              " 'METHODS',\n",
              " 'METHODS',\n",
              " 'METHODS',\n",
              " 'METHODS',\n",
              " 'METHODS',\n",
              " 'METHODS',\n",
              " 'METHODS',\n",
              " 'METHODS',\n",
              " 'RESULTS',\n",
              " 'CONCLUSIONS',\n",
              " 'RESULTS',\n",
              " 'RESULTS',\n",
              " 'CONCLUSIONS',\n",
              " 'RESULTS',\n",
              " 'CONCLUSIONS',\n",
              " 'RESULTS',\n",
              " 'BACKGROUND',\n",
              " 'BACKGROUND',\n",
              " 'BACKGROUND',\n",
              " 'BACKGROUND',\n",
              " 'METHODS',\n",
              " 'METHODS',\n",
              " 'METHODS',\n",
              " 'METHODS',\n",
              " 'METHODS',\n",
              " 'RESULTS',\n",
              " 'RESULTS',\n",
              " 'RESULTS',\n",
              " 'RESULTS',\n",
              " 'RESULTS',\n",
              " 'CONCLUSIONS',\n",
              " 'CONCLUSIONS',\n",
              " 'BACKGROUND',\n",
              " 'BACKGROUND',\n",
              " 'BACKGROUND',\n",
              " 'METHODS',\n",
              " 'BACKGROUND',\n",
              " 'METHODS',\n",
              " 'METHODS',\n",
              " 'METHODS',\n",
              " 'RESULTS',\n",
              " 'METHODS',\n",
              " 'METHODS',\n",
              " 'METHODS',\n",
              " 'CONCLUSIONS',\n",
              " 'CONCLUSIONS',\n",
              " 'CONCLUSIONS',\n",
              " 'METHODS',\n",
              " 'RESULTS',\n",
              " 'RESULTS',\n",
              " 'RESULTS',\n",
              " 'RESULTS',\n",
              " 'RESULTS',\n",
              " 'RESULTS',\n",
              " 'RESULTS',\n",
              " 'RESULTS',\n",
              " 'BACKGROUND',\n",
              " 'CONCLUSIONS',\n",
              " 'BACKGROUND',\n",
              " 'BACKGROUND',\n",
              " 'METHODS',\n",
              " 'METHODS',\n",
              " 'METHODS',\n",
              " 'METHODS',\n",
              " 'RESULTS',\n",
              " 'RESULTS',\n",
              " 'CONCLUSIONS',\n",
              " 'RESULTS',\n",
              " 'CONCLUSIONS',\n",
              " 'CONCLUSIONS',\n",
              " 'BACKGROUND',\n",
              " 'BACKGROUND',\n",
              " 'BACKGROUND',\n",
              " 'METHODS',\n",
              " 'METHODS',\n",
              " 'METHODS',\n",
              " 'METHODS',\n",
              " 'METHODS',\n",
              " 'METHODS',\n",
              " 'METHODS',\n",
              " 'BACKGROUND',\n",
              " 'RESULTS',\n",
              " 'CONCLUSIONS',\n",
              " 'RESULTS',\n",
              " 'RESULTS',\n",
              " 'RESULTS',\n",
              " 'RESULTS',\n",
              " 'RESULTS',\n",
              " 'CONCLUSIONS',\n",
              " 'CONCLUSIONS',\n",
              " 'BACKGROUND',\n",
              " 'OBJECTIVE',\n",
              " 'METHODS',\n",
              " 'METHODS',\n",
              " 'METHODS',\n",
              " 'METHODS',\n",
              " 'METHODS',\n",
              " 'RESULTS',\n",
              " 'RESULTS',\n",
              " 'RESULTS',\n",
              " 'RESULTS',\n",
              " 'CONCLUSIONS',\n",
              " 'CONCLUSIONS',\n",
              " 'CONCLUSIONS',\n",
              " 'BACKGROUND',\n",
              " 'BACKGROUND',\n",
              " 'BACKGROUND',\n",
              " 'BACKGROUND',\n",
              " 'METHODS',\n",
              " 'METHODS',\n",
              " 'RESULTS',\n",
              " 'RESULTS',\n",
              " 'RESULTS',\n",
              " 'RESULTS',\n",
              " 'RESULTS',\n",
              " 'CONCLUSIONS',\n",
              " 'RESULTS',\n",
              " 'CONCLUSIONS',\n",
              " 'CONCLUSIONS',\n",
              " 'BACKGROUND',\n",
              " 'BACKGROUND',\n",
              " 'BACKGROUND',\n",
              " 'METHODS',\n",
              " 'METHODS',\n",
              " 'METHODS',\n",
              " 'RESULTS',\n",
              " 'RESULTS',\n",
              " 'RESULTS',\n",
              " 'RESULTS',\n",
              " 'RESULTS',\n",
              " 'CONCLUSIONS',\n",
              " 'CONCLUSIONS',\n",
              " 'CONCLUSIONS',\n",
              " 'OBJECTIVE',\n",
              " 'METHODS',\n",
              " 'METHODS',\n",
              " 'METHODS',\n",
              " 'METHODS',\n",
              " 'METHODS',\n",
              " 'RESULTS',\n",
              " 'RESULTS',\n",
              " 'CONCLUSIONS',\n",
              " 'CONCLUSIONS',\n",
              " 'BACKGROUND',\n",
              " 'BACKGROUND',\n",
              " 'METHODS',\n",
              " 'METHODS',\n",
              " 'METHODS',\n",
              " 'METHODS',\n",
              " 'RESULTS',\n",
              " 'RESULTS',\n",
              " 'RESULTS',\n",
              " 'RESULTS',\n",
              " 'CONCLUSIONS',\n",
              " 'CONCLUSIONS',\n",
              " 'CONCLUSIONS',\n",
              " 'OBJECTIVE',\n",
              " 'BACKGROUND',\n",
              " 'METHODS',\n",
              " 'METHODS',\n",
              " 'METHODS',\n",
              " 'METHODS',\n",
              " 'METHODS',\n",
              " 'METHODS',\n",
              " 'METHODS',\n",
              " 'RESULTS',\n",
              " 'METHODS',\n",
              " 'RESULTS',\n",
              " 'RESULTS',\n",
              " 'RESULTS',\n",
              " 'RESULTS',\n",
              " 'RESULTS',\n",
              " 'RESULTS',\n",
              " 'RESULTS',\n",
              " 'CONCLUSIONS',\n",
              " 'CONCLUSIONS',\n",
              " 'BACKGROUND',\n",
              " 'OBJECTIVE',\n",
              " 'BACKGROUND',\n",
              " 'BACKGROUND',\n",
              " 'METHODS',\n",
              " 'METHODS',\n",
              " 'METHODS',\n",
              " 'RESULTS',\n",
              " 'METHODS',\n",
              " 'CONCLUSIONS',\n",
              " 'BACKGROUND',\n",
              " 'OBJECTIVE',\n",
              " 'METHODS',\n",
              " 'OBJECTIVE',\n",
              " 'METHODS',\n",
              " 'METHODS',\n",
              " 'RESULTS',\n",
              " 'RESULTS',\n",
              " 'RESULTS',\n",
              " 'RESULTS',\n",
              " 'RESULTS',\n",
              " 'CONCLUSIONS',\n",
              " 'OBJECTIVE',\n",
              " 'METHODS',\n",
              " 'METHODS',\n",
              " 'METHODS',\n",
              " 'RESULTS',\n",
              " 'RESULTS',\n",
              " 'RESULTS',\n",
              " 'CONCLUSIONS',\n",
              " 'BACKGROUND',\n",
              " 'BACKGROUND',\n",
              " 'METHODS',\n",
              " 'BACKGROUND',\n",
              " 'METHODS',\n",
              " 'RESULTS',\n",
              " 'METHODS',\n",
              " 'RESULTS',\n",
              " 'METHODS',\n",
              " 'METHODS',\n",
              " 'METHODS',\n",
              " 'METHODS',\n",
              " 'BACKGROUND',\n",
              " 'BACKGROUND',\n",
              " 'OBJECTIVE',\n",
              " 'BACKGROUND',\n",
              " 'METHODS',\n",
              " 'METHODS',\n",
              " 'RESULTS',\n",
              " 'METHODS',\n",
              " 'RESULTS',\n",
              " 'RESULTS',\n",
              " 'CONCLUSIONS',\n",
              " 'CONCLUSIONS',\n",
              " 'CONCLUSIONS',\n",
              " 'BACKGROUND',\n",
              " 'BACKGROUND',\n",
              " 'BACKGROUND',\n",
              " 'METHODS',\n",
              " 'METHODS',\n",
              " 'METHODS',\n",
              " 'METHODS',\n",
              " 'RESULTS',\n",
              " 'RESULTS',\n",
              " 'RESULTS',\n",
              " 'RESULTS',\n",
              " 'CONCLUSIONS',\n",
              " 'RESULTS',\n",
              " 'CONCLUSIONS',\n",
              " 'CONCLUSIONS',\n",
              " 'CONCLUSIONS',\n",
              " 'OBJECTIVE',\n",
              " 'BACKGROUND',\n",
              " 'METHODS',\n",
              " 'METHODS',\n",
              " 'RESULTS',\n",
              " 'RESULTS',\n",
              " 'BACKGROUND',\n",
              " 'METHODS',\n",
              " 'BACKGROUND',\n",
              " 'METHODS',\n",
              " 'METHODS',\n",
              " 'RESULTS',\n",
              " 'RESULTS',\n",
              " 'RESULTS',\n",
              " 'RESULTS',\n",
              " 'CONCLUSIONS',\n",
              " 'OBJECTIVE',\n",
              " 'METHODS',\n",
              " 'METHODS',\n",
              " 'METHODS',\n",
              " 'METHODS',\n",
              " 'METHODS',\n",
              " 'METHODS',\n",
              " 'METHODS',\n",
              " 'METHODS',\n",
              " 'RESULTS',\n",
              " 'RESULTS',\n",
              " 'RESULTS',\n",
              " 'RESULTS',\n",
              " 'RESULTS',\n",
              " 'CONCLUSIONS',\n",
              " 'BACKGROUND',\n",
              " 'BACKGROUND',\n",
              " 'METHODS',\n",
              " 'METHODS',\n",
              " 'METHODS',\n",
              " 'METHODS',\n",
              " 'METHODS',\n",
              " 'METHODS',\n",
              " 'RESULTS',\n",
              " 'RESULTS',\n",
              " 'RESULTS',\n",
              " 'RESULTS',\n",
              " 'CONCLUSIONS',\n",
              " 'CONCLUSIONS',\n",
              " 'CONCLUSIONS',\n",
              " 'CONCLUSIONS',\n",
              " 'BACKGROUND',\n",
              " 'BACKGROUND',\n",
              " 'METHODS',\n",
              " 'RESULTS',\n",
              " 'RESULTS',\n",
              " 'RESULTS',\n",
              " 'RESULTS',\n",
              " 'RESULTS',\n",
              " 'RESULTS',\n",
              " 'CONCLUSIONS',\n",
              " 'BACKGROUND',\n",
              " 'BACKGROUND',\n",
              " 'BACKGROUND',\n",
              " 'METHODS',\n",
              " 'METHODS',\n",
              " 'METHODS',\n",
              " 'RESULTS',\n",
              " 'RESULTS',\n",
              " 'RESULTS',\n",
              " 'RESULTS',\n",
              " 'CONCLUSIONS',\n",
              " 'RESULTS',\n",
              " 'RESULTS',\n",
              " 'CONCLUSIONS',\n",
              " 'CONCLUSIONS',\n",
              " 'OBJECTIVE',\n",
              " 'METHODS',\n",
              " 'METHODS',\n",
              " 'METHODS',\n",
              " 'METHODS',\n",
              " 'METHODS',\n",
              " 'METHODS',\n",
              " 'METHODS',\n",
              " 'RESULTS',\n",
              " 'RESULTS',\n",
              " 'RESULTS',\n",
              " 'RESULTS',\n",
              " 'RESULTS',\n",
              " 'CONCLUSIONS',\n",
              " 'CONCLUSIONS',\n",
              " 'CONCLUSIONS',\n",
              " 'OBJECTIVE',\n",
              " 'METHODS',\n",
              " 'METHODS',\n",
              " 'METHODS',\n",
              " 'METHODS',\n",
              " 'METHODS',\n",
              " 'RESULTS',\n",
              " 'CONCLUSIONS',\n",
              " 'BACKGROUND',\n",
              " 'BACKGROUND',\n",
              " 'BACKGROUND',\n",
              " 'METHODS',\n",
              " 'METHODS',\n",
              " 'METHODS',\n",
              " 'METHODS',\n",
              " 'METHODS',\n",
              " 'RESULTS',\n",
              " 'RESULTS',\n",
              " 'RESULTS',\n",
              " 'RESULTS',\n",
              " 'CONCLUSIONS',\n",
              " 'CONCLUSIONS',\n",
              " 'BACKGROUND',\n",
              " 'OBJECTIVE',\n",
              " 'METHODS',\n",
              " 'METHODS',\n",
              " 'METHODS',\n",
              " 'RESULTS',\n",
              " 'RESULTS',\n",
              " 'RESULTS',\n",
              " 'CONCLUSIONS',\n",
              " 'OBJECTIVE',\n",
              " 'METHODS',\n",
              " 'METHODS',\n",
              " 'METHODS',\n",
              " 'METHODS',\n",
              " 'METHODS',\n",
              " 'METHODS',\n",
              " 'RESULTS',\n",
              " 'RESULTS',\n",
              " 'CONCLUSIONS',\n",
              " 'OBJECTIVE',\n",
              " 'METHODS',\n",
              " 'BACKGROUND',\n",
              " 'METHODS',\n",
              " 'METHODS',\n",
              " 'METHODS',\n",
              " 'RESULTS',\n",
              " 'RESULTS',\n",
              " 'RESULTS',\n",
              " 'CONCLUSIONS',\n",
              " 'CONCLUSIONS',\n",
              " 'CONCLUSIONS',\n",
              " 'OBJECTIVE',\n",
              " 'METHODS',\n",
              " 'METHODS',\n",
              " 'METHODS',\n",
              " 'METHODS',\n",
              " 'METHODS',\n",
              " 'RESULTS',\n",
              " 'RESULTS',\n",
              " 'METHODS',\n",
              " 'RESULTS',\n",
              " 'RESULTS',\n",
              " 'RESULTS',\n",
              " 'CONCLUSIONS',\n",
              " 'BACKGROUND',\n",
              " 'BACKGROUND',\n",
              " 'BACKGROUND',\n",
              " 'METHODS',\n",
              " 'METHODS',\n",
              " 'METHODS',\n",
              " 'METHODS',\n",
              " 'METHODS',\n",
              " 'RESULTS',\n",
              " 'RESULTS',\n",
              " 'RESULTS',\n",
              " 'RESULTS',\n",
              " 'CONCLUSIONS',\n",
              " 'RESULTS',\n",
              " 'CONCLUSIONS',\n",
              " 'BACKGROUND',\n",
              " 'BACKGROUND',\n",
              " 'METHODS',\n",
              " 'METHODS',\n",
              " 'METHODS',\n",
              " 'METHODS',\n",
              " 'METHODS',\n",
              " 'RESULTS',\n",
              " 'RESULTS',\n",
              " 'RESULTS',\n",
              " 'CONCLUSIONS',\n",
              " 'CONCLUSIONS',\n",
              " 'OBJECTIVE',\n",
              " 'BACKGROUND',\n",
              " 'METHODS',\n",
              " 'METHODS',\n",
              " 'RESULTS',\n",
              " 'RESULTS',\n",
              " 'RESULTS',\n",
              " 'RESULTS',\n",
              " 'RESULTS',\n",
              " 'RESULTS',\n",
              " 'CONCLUSIONS',\n",
              " 'OBJECTIVE',\n",
              " 'METHODS',\n",
              " 'METHODS',\n",
              " 'METHODS',\n",
              " 'METHODS',\n",
              " 'RESULTS',\n",
              " 'RESULTS',\n",
              " 'RESULTS',\n",
              " 'RESULTS',\n",
              " 'CONCLUSIONS',\n",
              " 'OBJECTIVE',\n",
              " 'METHODS',\n",
              " 'METHODS',\n",
              " 'METHODS',\n",
              " 'RESULTS',\n",
              " 'RESULTS',\n",
              " 'RESULTS',\n",
              " 'RESULTS',\n",
              " 'RESULTS',\n",
              " 'CONCLUSIONS',\n",
              " 'RESULTS',\n",
              " 'BACKGROUND',\n",
              " 'METHODS',\n",
              " 'METHODS',\n",
              " 'METHODS',\n",
              " 'METHODS',\n",
              " 'METHODS',\n",
              " 'RESULTS',\n",
              " 'METHODS',\n",
              " 'RESULTS',\n",
              " 'RESULTS',\n",
              " 'RESULTS',\n",
              " 'METHODS',\n",
              " 'CONCLUSIONS',\n",
              " 'BACKGROUND',\n",
              " 'OBJECTIVE',\n",
              " 'BACKGROUND',\n",
              " 'BACKGROUND',\n",
              " 'BACKGROUND',\n",
              " 'BACKGROUND',\n",
              " 'METHODS',\n",
              " 'METHODS',\n",
              " 'METHODS',\n",
              " 'CONCLUSIONS',\n",
              " 'BACKGROUND',\n",
              " 'BACKGROUND',\n",
              " 'BACKGROUND',\n",
              " 'BACKGROUND',\n",
              " 'METHODS',\n",
              " 'METHODS',\n",
              " 'METHODS',\n",
              " 'RESULTS',\n",
              " 'RESULTS',\n",
              " 'RESULTS',\n",
              " 'CONCLUSIONS',\n",
              " 'CONCLUSIONS',\n",
              " 'BACKGROUND',\n",
              " 'METHODS',\n",
              " 'METHODS',\n",
              " 'METHODS',\n",
              " 'METHODS',\n",
              " 'METHODS',\n",
              " 'RESULTS',\n",
              " 'RESULTS',\n",
              " 'RESULTS',\n",
              " 'RESULTS',\n",
              " 'CONCLUSIONS',\n",
              " 'OBJECTIVE',\n",
              " 'METHODS',\n",
              " 'METHODS',\n",
              " 'METHODS',\n",
              " 'RESULTS',\n",
              " 'RESULTS',\n",
              " 'CONCLUSIONS',\n",
              " 'CONCLUSIONS',\n",
              " 'CONCLUSIONS',\n",
              " 'OBJECTIVE',\n",
              " 'METHODS',\n",
              " 'METHODS',\n",
              " 'METHODS',\n",
              " 'RESULTS',\n",
              " 'RESULTS',\n",
              " 'CONCLUSIONS',\n",
              " 'BACKGROUND',\n",
              " 'BACKGROUND',\n",
              " 'METHODS',\n",
              " 'METHODS',\n",
              " 'METHODS',\n",
              " 'METHODS',\n",
              " 'METHODS',\n",
              " 'RESULTS',\n",
              " 'RESULTS',\n",
              " 'RESULTS',\n",
              " 'RESULTS',\n",
              " 'CONCLUSIONS',\n",
              " 'RESULTS',\n",
              " 'CONCLUSIONS',\n",
              " 'OBJECTIVE',\n",
              " 'BACKGROUND',\n",
              " 'OBJECTIVE',\n",
              " 'METHODS',\n",
              " 'RESULTS',\n",
              " 'METHODS',\n",
              " 'RESULTS',\n",
              " 'RESULTS',\n",
              " 'CONCLUSIONS',\n",
              " 'BACKGROUND',\n",
              " 'BACKGROUND',\n",
              " 'METHODS',\n",
              " 'METHODS',\n",
              " 'METHODS',\n",
              " 'METHODS',\n",
              " 'RESULTS',\n",
              " 'RESULTS',\n",
              " 'RESULTS',\n",
              " 'CONCLUSIONS',\n",
              " 'BACKGROUND',\n",
              " 'OBJECTIVE',\n",
              " 'BACKGROUND',\n",
              " 'BACKGROUND',\n",
              " 'METHODS',\n",
              " 'METHODS',\n",
              " 'METHODS',\n",
              " 'RESULTS',\n",
              " 'RESULTS',\n",
              " 'RESULTS',\n",
              " 'CONCLUSIONS',\n",
              " 'OBJECTIVE',\n",
              " 'METHODS',\n",
              " 'METHODS',\n",
              " 'METHODS',\n",
              " 'METHODS',\n",
              " 'RESULTS',\n",
              " 'RESULTS',\n",
              " 'RESULTS',\n",
              " 'RESULTS',\n",
              " 'RESULTS',\n",
              " 'CONCLUSIONS',\n",
              " 'CONCLUSIONS',\n",
              " 'BACKGROUND',\n",
              " 'BACKGROUND',\n",
              " 'METHODS',\n",
              " 'METHODS',\n",
              " 'METHODS',\n",
              " 'METHODS',\n",
              " 'METHODS',\n",
              " 'METHODS',\n",
              " 'METHODS',\n",
              " 'METHODS',\n",
              " 'CONCLUSIONS',\n",
              " 'CONCLUSIONS',\n",
              " 'BACKGROUND',\n",
              " 'OBJECTIVE',\n",
              " 'METHODS',\n",
              " 'METHODS',\n",
              " 'METHODS',\n",
              " 'METHODS',\n",
              " 'METHODS',\n",
              " 'RESULTS',\n",
              " 'RESULTS',\n",
              " 'RESULTS',\n",
              " 'RESULTS',\n",
              " 'CONCLUSIONS',\n",
              " 'BACKGROUND',\n",
              " 'BACKGROUND',\n",
              " 'BACKGROUND',\n",
              " 'METHODS',\n",
              " 'METHODS',\n",
              " 'METHODS',\n",
              " 'METHODS',\n",
              " 'METHODS',\n",
              " 'RESULTS',\n",
              " 'RESULTS',\n",
              " 'CONCLUSIONS',\n",
              " 'CONCLUSIONS',\n",
              " 'CONCLUSIONS',\n",
              " 'BACKGROUND',\n",
              " 'METHODS',\n",
              " 'METHODS',\n",
              " 'METHODS',\n",
              " 'METHODS',\n",
              " 'METHODS',\n",
              " 'METHODS',\n",
              " 'METHODS',\n",
              " 'METHODS',\n",
              " 'RESULTS',\n",
              " 'RESULTS',\n",
              " 'RESULTS',\n",
              " 'RESULTS',\n",
              " 'CONCLUSIONS',\n",
              " 'CONCLUSIONS',\n",
              " 'OBJECTIVE',\n",
              " 'OBJECTIVE',\n",
              " 'METHODS',\n",
              " 'METHODS',\n",
              " 'RESULTS',\n",
              " 'CONCLUSIONS',\n",
              " 'CONCLUSIONS',\n",
              " 'CONCLUSIONS',\n",
              " 'BACKGROUND',\n",
              " 'BACKGROUND',\n",
              " 'BACKGROUND',\n",
              " 'BACKGROUND',\n",
              " 'METHODS',\n",
              " 'METHODS',\n",
              " 'METHODS',\n",
              " 'METHODS',\n",
              " 'METHODS',\n",
              " 'RESULTS',\n",
              " 'METHODS',\n",
              " 'METHODS',\n",
              " 'RESULTS',\n",
              " 'RESULTS',\n",
              " 'RESULTS',\n",
              " 'RESULTS',\n",
              " 'RESULTS',\n",
              " 'RESULTS',\n",
              " 'RESULTS',\n",
              " 'CONCLUSIONS',\n",
              " 'CONCLUSIONS',\n",
              " 'BACKGROUND',\n",
              " 'OBJECTIVE',\n",
              " 'METHODS',\n",
              " 'METHODS',\n",
              " 'METHODS',\n",
              " 'METHODS',\n",
              " 'METHODS',\n",
              " 'RESULTS',\n",
              " 'RESULTS',\n",
              " 'RESULTS',\n",
              " 'CONCLUSIONS',\n",
              " 'CONCLUSIONS',\n",
              " 'BACKGROUND',\n",
              " 'BACKGROUND',\n",
              " 'BACKGROUND',\n",
              " 'BACKGROUND',\n",
              " 'METHODS',\n",
              " 'METHODS',\n",
              " 'METHODS',\n",
              " 'METHODS',\n",
              " 'METHODS',\n",
              " 'CONCLUSIONS',\n",
              " 'CONCLUSIONS',\n",
              " 'BACKGROUND',\n",
              " 'BACKGROUND',\n",
              " 'BACKGROUND',\n",
              " 'BACKGROUND',\n",
              " 'METHODS',\n",
              " 'METHODS',\n",
              " 'METHODS',\n",
              " 'METHODS',\n",
              " 'METHODS',\n",
              " 'METHODS',\n",
              " 'METHODS',\n",
              " 'CONCLUSIONS',\n",
              " 'METHODS',\n",
              " 'METHODS',\n",
              " 'CONCLUSIONS',\n",
              " 'BACKGROUND',\n",
              " 'OBJECTIVE',\n",
              " 'METHODS',\n",
              " 'METHODS',\n",
              " 'RESULTS',\n",
              " 'RESULTS',\n",
              " 'RESULTS',\n",
              " 'RESULTS',\n",
              " 'CONCLUSIONS',\n",
              " 'OBJECTIVE',\n",
              " 'BACKGROUND',\n",
              " 'BACKGROUND',\n",
              " 'METHODS',\n",
              " 'METHODS',\n",
              " 'METHODS',\n",
              " 'RESULTS',\n",
              " 'RESULTS',\n",
              " 'RESULTS',\n",
              " 'RESULTS',\n",
              " 'RESULTS',\n",
              " 'CONCLUSIONS',\n",
              " 'CONCLUSIONS',\n",
              " 'BACKGROUND',\n",
              " 'BACKGROUND',\n",
              " 'BACKGROUND',\n",
              " 'METHODS',\n",
              " 'METHODS',\n",
              " 'METHODS',\n",
              " 'METHODS',\n",
              " 'RESULTS',\n",
              " 'RESULTS',\n",
              " 'RESULTS',\n",
              " 'CONCLUSIONS',\n",
              " 'RESULTS',\n",
              " 'CONCLUSIONS',\n",
              " 'BACKGROUND',\n",
              " 'BACKGROUND',\n",
              " 'METHODS',\n",
              " 'METHODS',\n",
              " 'METHODS',\n",
              " 'METHODS',\n",
              " 'RESULTS',\n",
              " 'RESULTS',\n",
              " 'RESULTS',\n",
              " 'RESULTS',\n",
              " 'CONCLUSIONS',\n",
              " 'CONCLUSIONS',\n",
              " 'OBJECTIVE',\n",
              " 'BACKGROUND',\n",
              " 'BACKGROUND',\n",
              " 'METHODS',\n",
              " 'METHODS',\n",
              " 'RESULTS',\n",
              " 'RESULTS',\n",
              " 'RESULTS',\n",
              " 'CONCLUSIONS',\n",
              " 'CONCLUSIONS',\n",
              " 'BACKGROUND',\n",
              " 'BACKGROUND',\n",
              " 'BACKGROUND',\n",
              " 'BACKGROUND',\n",
              " 'BACKGROUND',\n",
              " 'METHODS',\n",
              " 'METHODS',\n",
              " 'METHODS',\n",
              " 'METHODS',\n",
              " 'RESULTS',\n",
              " 'RESULTS',\n",
              " 'RESULTS',\n",
              " 'RESULTS',\n",
              " 'RESULTS',\n",
              " 'CONCLUSIONS',\n",
              " 'BACKGROUND',\n",
              " 'OBJECTIVE',\n",
              " 'BACKGROUND',\n",
              " 'OBJECTIVE',\n",
              " 'METHODS',\n",
              " 'RESULTS',\n",
              " 'RESULTS',\n",
              " 'RESULTS',\n",
              " 'RESULTS',\n",
              " 'CONCLUSIONS',\n",
              " 'BACKGROUND',\n",
              " 'BACKGROUND',\n",
              " 'METHODS',\n",
              " 'METHODS',\n",
              " 'METHODS',\n",
              " 'METHODS',\n",
              " 'METHODS',\n",
              " 'METHODS',\n",
              " 'RESULTS',\n",
              " 'RESULTS',\n",
              " 'RESULTS',\n",
              " 'RESULTS',\n",
              " 'CONCLUSIONS',\n",
              " 'OBJECTIVE',\n",
              " 'METHODS',\n",
              " 'METHODS',\n",
              " 'METHODS',\n",
              " 'METHODS',\n",
              " 'BACKGROUND',\n",
              " 'RESULTS',\n",
              " 'RESULTS',\n",
              " 'RESULTS',\n",
              " 'CONCLUSIONS',\n",
              " 'CONCLUSIONS',\n",
              " 'OBJECTIVE',\n",
              " 'METHODS',\n",
              " 'METHODS',\n",
              " 'METHODS',\n",
              " 'RESULTS',\n",
              " 'RESULTS',\n",
              " 'RESULTS',\n",
              " 'RESULTS',\n",
              " 'CONCLUSIONS',\n",
              " 'BACKGROUND',\n",
              " 'BACKGROUND',\n",
              " 'METHODS',\n",
              " 'METHODS',\n",
              " 'METHODS',\n",
              " 'METHODS',\n",
              " 'RESULTS',\n",
              " 'RESULTS',\n",
              " 'RESULTS',\n",
              " 'RESULTS',\n",
              " 'RESULTS',\n",
              " 'RESULTS',\n",
              " 'RESULTS',\n",
              " 'CONCLUSIONS',\n",
              " 'OBJECTIVE',\n",
              " 'METHODS',\n",
              " 'METHODS',\n",
              " 'METHODS',\n",
              " 'METHODS',\n",
              " 'RESULTS',\n",
              " 'RESULTS',\n",
              " 'RESULTS',\n",
              " 'RESULTS',\n",
              " 'RESULTS',\n",
              " 'RESULTS',\n",
              " 'CONCLUSIONS',\n",
              " 'CONCLUSIONS',\n",
              " 'OBJECTIVE',\n",
              " 'METHODS',\n",
              " 'METHODS',\n",
              " 'METHODS',\n",
              " 'METHODS',\n",
              " 'METHODS',\n",
              " 'METHODS',\n",
              " 'RESULTS',\n",
              " 'RESULTS',\n",
              " 'RESULTS',\n",
              " 'CONCLUSIONS',\n",
              " 'RESULTS',\n",
              " 'RESULTS',\n",
              " 'RESULTS',\n",
              " 'OBJECTIVE',\n",
              " 'METHODS',\n",
              " 'METHODS',\n",
              " 'METHODS',\n",
              " 'METHODS',\n",
              " 'METHODS',\n",
              " 'METHODS',\n",
              " 'METHODS',\n",
              " 'RESULTS',\n",
              " 'RESULTS',\n",
              " 'RESULTS',\n",
              " 'RESULTS',\n",
              " 'RESULTS',\n",
              " 'RESULTS',\n",
              " 'CONCLUSIONS',\n",
              " 'BACKGROUND',\n",
              " 'BACKGROUND',\n",
              " 'BACKGROUND',\n",
              " 'BACKGROUND',\n",
              " 'BACKGROUND',\n",
              " 'METHODS',\n",
              " 'METHODS',\n",
              " 'METHODS',\n",
              " 'METHODS',\n",
              " 'CONCLUSIONS',\n",
              " 'RESULTS',\n",
              " 'RESULTS',\n",
              " 'OBJECTIVE',\n",
              " 'BACKGROUND',\n",
              " 'METHODS',\n",
              " 'METHODS',\n",
              " 'RESULTS',\n",
              " 'METHODS',\n",
              " 'RESULTS',\n",
              " 'RESULTS',\n",
              " 'CONCLUSIONS',\n",
              " 'BACKGROUND',\n",
              " 'METHODS',\n",
              " 'METHODS',\n",
              " 'METHODS',\n",
              " 'METHODS',\n",
              " 'METHODS',\n",
              " 'METHODS',\n",
              " 'METHODS',\n",
              " 'RESULTS',\n",
              " 'RESULTS',\n",
              " 'RESULTS',\n",
              " 'RESULTS',\n",
              " 'CONCLUSIONS',\n",
              " 'BACKGROUND',\n",
              " 'BACKGROUND',\n",
              " 'METHODS',\n",
              " ...]"
            ]
          },
          "metadata": {},
          "execution_count": 118
        }
      ]
    },
    {
      "cell_type": "code",
      "source": [
        "# Create prediction-enriched test dataframe\n",
        "test_df[\"prediction\"] = test_pred_classes # create column with test prediction class names\n",
        "test_df[\"pred_prob\"] = tf.reduce_max(model_5_test_preds_probs, axis=1).numpy() # get the maximum prediction probability\n",
        "test_df[\"correct\"] = test_df[\"prediction\"] == test_df[\"labels\"] # create binary column for whether the prediction is right or not\n",
        "test_df.head(20)"
      ],
      "metadata": {
        "colab": {
          "base_uri": "https://localhost:8080/",
          "height": 677
        },
        "id": "9aVA8VVWLOKg",
        "outputId": "b4f0f595-5304-460e-fb7e-62934c270739"
      },
      "execution_count": 121,
      "outputs": [
        {
          "output_type": "execute_result",
          "data": {
            "text/html": [
              "<div>\n",
              "<style scoped>\n",
              "    .dataframe tbody tr th:only-of-type {\n",
              "        vertical-align: middle;\n",
              "    }\n",
              "\n",
              "    .dataframe tbody tr th {\n",
              "        vertical-align: top;\n",
              "    }\n",
              "\n",
              "    .dataframe thead th {\n",
              "        text-align: right;\n",
              "    }\n",
              "</style>\n",
              "<table border=\"1\" class=\"dataframe\">\n",
              "  <thead>\n",
              "    <tr style=\"text-align: right;\">\n",
              "      <th></th>\n",
              "      <th>labels</th>\n",
              "      <th>Text</th>\n",
              "      <th>Line_number</th>\n",
              "      <th>total_lines</th>\n",
              "      <th>prediction</th>\n",
              "      <th>pred_prob</th>\n",
              "      <th>correct</th>\n",
              "    </tr>\n",
              "  </thead>\n",
              "  <tbody>\n",
              "    <tr>\n",
              "      <th>0</th>\n",
              "      <td>BACKGROUND</td>\n",
              "      <td>IgE sensitization to Aspergillus fumigatus and...</td>\n",
              "      <td>0</td>\n",
              "      <td>9</td>\n",
              "      <td>BACKGROUND</td>\n",
              "      <td>0.510439</td>\n",
              "      <td>True</td>\n",
              "    </tr>\n",
              "    <tr>\n",
              "      <th>1</th>\n",
              "      <td>BACKGROUND</td>\n",
              "      <td>It is not clear whether these patients would b...</td>\n",
              "      <td>1</td>\n",
              "      <td>9</td>\n",
              "      <td>BACKGROUND</td>\n",
              "      <td>0.641354</td>\n",
              "      <td>True</td>\n",
              "    </tr>\n",
              "    <tr>\n",
              "      <th>2</th>\n",
              "      <td>OBJECTIVE</td>\n",
              "      <td>We sought to determine whether a @-month cours...</td>\n",
              "      <td>2</td>\n",
              "      <td>9</td>\n",
              "      <td>BACKGROUND</td>\n",
              "      <td>0.473127</td>\n",
              "      <td>False</td>\n",
              "    </tr>\n",
              "    <tr>\n",
              "      <th>3</th>\n",
              "      <td>METHODS</td>\n",
              "      <td>Asthmatic patients who were IgE sensitized to ...</td>\n",
              "      <td>3</td>\n",
              "      <td>9</td>\n",
              "      <td>METHODS</td>\n",
              "      <td>0.963334</td>\n",
              "      <td>True</td>\n",
              "    </tr>\n",
              "    <tr>\n",
              "      <th>4</th>\n",
              "      <td>METHODS</td>\n",
              "      <td>Primary outcomes were improvement in quality o...</td>\n",
              "      <td>4</td>\n",
              "      <td>9</td>\n",
              "      <td>METHODS</td>\n",
              "      <td>0.879306</td>\n",
              "      <td>True</td>\n",
              "    </tr>\n",
              "    <tr>\n",
              "      <th>5</th>\n",
              "      <td>RESULTS</td>\n",
              "      <td>Sixty-five patients were randomized .</td>\n",
              "      <td>5</td>\n",
              "      <td>9</td>\n",
              "      <td>RESULTS</td>\n",
              "      <td>0.560680</td>\n",
              "      <td>True</td>\n",
              "    </tr>\n",
              "    <tr>\n",
              "      <th>6</th>\n",
              "      <td>RESULTS</td>\n",
              "      <td>Fifty-nine patients started treatment ( @ rece...</td>\n",
              "      <td>6</td>\n",
              "      <td>9</td>\n",
              "      <td>RESULTS</td>\n",
              "      <td>0.725382</td>\n",
              "      <td>True</td>\n",
              "    </tr>\n",
              "    <tr>\n",
              "      <th>7</th>\n",
              "      <td>RESULTS</td>\n",
              "      <td>Fifty-six patients took the full @ months of m...</td>\n",
              "      <td>7</td>\n",
              "      <td>9</td>\n",
              "      <td>RESULTS</td>\n",
              "      <td>0.784257</td>\n",
              "      <td>True</td>\n",
              "    </tr>\n",
              "    <tr>\n",
              "      <th>8</th>\n",
              "      <td>RESULTS</td>\n",
              "      <td>Between the voriconazole and placebo groups , ...</td>\n",
              "      <td>8</td>\n",
              "      <td>9</td>\n",
              "      <td>RESULTS</td>\n",
              "      <td>0.957014</td>\n",
              "      <td>True</td>\n",
              "    </tr>\n",
              "    <tr>\n",
              "      <th>9</th>\n",
              "      <td>CONCLUSIONS</td>\n",
              "      <td>We were unable to show a beneficial effect of ...</td>\n",
              "      <td>9</td>\n",
              "      <td>9</td>\n",
              "      <td>CONCLUSIONS</td>\n",
              "      <td>0.855027</td>\n",
              "      <td>True</td>\n",
              "    </tr>\n",
              "    <tr>\n",
              "      <th>10</th>\n",
              "      <td>BACKGROUND</td>\n",
              "      <td>Opioid antagonists ( e.g. , naltrexone ) and p...</td>\n",
              "      <td>0</td>\n",
              "      <td>10</td>\n",
              "      <td>BACKGROUND</td>\n",
              "      <td>0.654049</td>\n",
              "      <td>True</td>\n",
              "    </tr>\n",
              "    <tr>\n",
              "      <th>11</th>\n",
              "      <td>BACKGROUND</td>\n",
              "      <td>The use of higher doses to achieve greater eff...</td>\n",
              "      <td>1</td>\n",
              "      <td>10</td>\n",
              "      <td>BACKGROUND</td>\n",
              "      <td>0.618701</td>\n",
              "      <td>True</td>\n",
              "    </tr>\n",
              "    <tr>\n",
              "      <th>12</th>\n",
              "      <td>BACKGROUND</td>\n",
              "      <td>Combining naltrexone and alprazolam might safe...</td>\n",
              "      <td>2</td>\n",
              "      <td>10</td>\n",
              "      <td>BACKGROUND</td>\n",
              "      <td>0.720744</td>\n",
              "      <td>True</td>\n",
              "    </tr>\n",
              "    <tr>\n",
              "      <th>13</th>\n",
              "      <td>OBJECTIVE</td>\n",
              "      <td>The present pilot study tested the hypothesis ...</td>\n",
              "      <td>3</td>\n",
              "      <td>10</td>\n",
              "      <td>BACKGROUND</td>\n",
              "      <td>0.575782</td>\n",
              "      <td>False</td>\n",
              "    </tr>\n",
              "    <tr>\n",
              "      <th>14</th>\n",
              "      <td>METHODS</td>\n",
              "      <td>Eight nontreatment-seeking , stimulant-using i...</td>\n",
              "      <td>4</td>\n",
              "      <td>10</td>\n",
              "      <td>METHODS</td>\n",
              "      <td>0.957307</td>\n",
              "      <td>True</td>\n",
              "    </tr>\n",
              "    <tr>\n",
              "      <th>15</th>\n",
              "      <td>METHODS</td>\n",
              "      <td>Subjective effects , psychomotor task performa...</td>\n",
              "      <td>5</td>\n",
              "      <td>10</td>\n",
              "      <td>METHODS</td>\n",
              "      <td>0.933909</td>\n",
              "      <td>True</td>\n",
              "    </tr>\n",
              "    <tr>\n",
              "      <th>16</th>\n",
              "      <td>RESULTS</td>\n",
              "      <td>Oral d-amphetamine produced prototypical physi...</td>\n",
              "      <td>6</td>\n",
              "      <td>10</td>\n",
              "      <td>RESULTS</td>\n",
              "      <td>0.681563</td>\n",
              "      <td>True</td>\n",
              "    </tr>\n",
              "    <tr>\n",
              "      <th>17</th>\n",
              "      <td>RESULTS</td>\n",
              "      <td>Pretreatment with naltrexone , alprazolam , an...</td>\n",
              "      <td>7</td>\n",
              "      <td>10</td>\n",
              "      <td>RESULTS</td>\n",
              "      <td>0.670256</td>\n",
              "      <td>True</td>\n",
              "    </tr>\n",
              "    <tr>\n",
              "      <th>18</th>\n",
              "      <td>RESULTS</td>\n",
              "      <td>Naltrexone and alprazolam each significantly a...</td>\n",
              "      <td>8</td>\n",
              "      <td>10</td>\n",
              "      <td>RESULTS</td>\n",
              "      <td>0.616551</td>\n",
              "      <td>True</td>\n",
              "    </tr>\n",
              "    <tr>\n",
              "      <th>19</th>\n",
              "      <td>RESULTS</td>\n",
              "      <td>The combination attenuated a greater number of...</td>\n",
              "      <td>9</td>\n",
              "      <td>10</td>\n",
              "      <td>RESULTS</td>\n",
              "      <td>0.513769</td>\n",
              "      <td>True</td>\n",
              "    </tr>\n",
              "  </tbody>\n",
              "</table>\n",
              "</div>"
            ],
            "text/plain": [
              "         labels  ... correct\n",
              "0    BACKGROUND  ...    True\n",
              "1    BACKGROUND  ...    True\n",
              "2     OBJECTIVE  ...   False\n",
              "3       METHODS  ...    True\n",
              "4       METHODS  ...    True\n",
              "5       RESULTS  ...    True\n",
              "6       RESULTS  ...    True\n",
              "7       RESULTS  ...    True\n",
              "8       RESULTS  ...    True\n",
              "9   CONCLUSIONS  ...    True\n",
              "10   BACKGROUND  ...    True\n",
              "11   BACKGROUND  ...    True\n",
              "12   BACKGROUND  ...    True\n",
              "13    OBJECTIVE  ...   False\n",
              "14      METHODS  ...    True\n",
              "15      METHODS  ...    True\n",
              "16      RESULTS  ...    True\n",
              "17      RESULTS  ...    True\n",
              "18      RESULTS  ...    True\n",
              "19      RESULTS  ...    True\n",
              "\n",
              "[20 rows x 7 columns]"
            ]
          },
          "metadata": {},
          "execution_count": 121
        }
      ]
    },
    {
      "cell_type": "code",
      "source": [
        "test_df[test_df.correct == False]"
      ],
      "metadata": {
        "colab": {
          "base_uri": "https://localhost:8080/",
          "height": 423
        },
        "id": "uDG5Fp0vLP36",
        "outputId": "961bdde9-07f5-4841-8b01-fa711eb5c5e5"
      },
      "execution_count": 124,
      "outputs": [
        {
          "output_type": "execute_result",
          "data": {
            "text/html": [
              "<div>\n",
              "<style scoped>\n",
              "    .dataframe tbody tr th:only-of-type {\n",
              "        vertical-align: middle;\n",
              "    }\n",
              "\n",
              "    .dataframe tbody tr th {\n",
              "        vertical-align: top;\n",
              "    }\n",
              "\n",
              "    .dataframe thead th {\n",
              "        text-align: right;\n",
              "    }\n",
              "</style>\n",
              "<table border=\"1\" class=\"dataframe\">\n",
              "  <thead>\n",
              "    <tr style=\"text-align: right;\">\n",
              "      <th></th>\n",
              "      <th>labels</th>\n",
              "      <th>Text</th>\n",
              "      <th>Line_number</th>\n",
              "      <th>total_lines</th>\n",
              "      <th>prediction</th>\n",
              "      <th>pred_prob</th>\n",
              "      <th>correct</th>\n",
              "    </tr>\n",
              "  </thead>\n",
              "  <tbody>\n",
              "    <tr>\n",
              "      <th>2</th>\n",
              "      <td>OBJECTIVE</td>\n",
              "      <td>We sought to determine whether a @-month cours...</td>\n",
              "      <td>2</td>\n",
              "      <td>9</td>\n",
              "      <td>BACKGROUND</td>\n",
              "      <td>0.473127</td>\n",
              "      <td>False</td>\n",
              "    </tr>\n",
              "    <tr>\n",
              "      <th>13</th>\n",
              "      <td>OBJECTIVE</td>\n",
              "      <td>The present pilot study tested the hypothesis ...</td>\n",
              "      <td>3</td>\n",
              "      <td>10</td>\n",
              "      <td>BACKGROUND</td>\n",
              "      <td>0.575782</td>\n",
              "      <td>False</td>\n",
              "    </tr>\n",
              "    <tr>\n",
              "      <th>24</th>\n",
              "      <td>OBJECTIVE</td>\n",
              "      <td>We tested the impact of conceptual instruction...</td>\n",
              "      <td>3</td>\n",
              "      <td>10</td>\n",
              "      <td>METHODS</td>\n",
              "      <td>0.866367</td>\n",
              "      <td>False</td>\n",
              "    </tr>\n",
              "    <tr>\n",
              "      <th>25</th>\n",
              "      <td>OBJECTIVE</td>\n",
              "      <td>We also examined the learning processes suppor...</td>\n",
              "      <td>4</td>\n",
              "      <td>10</td>\n",
              "      <td>BACKGROUND</td>\n",
              "      <td>0.463293</td>\n",
              "      <td>False</td>\n",
              "    </tr>\n",
              "    <tr>\n",
              "      <th>26</th>\n",
              "      <td>METHODS</td>\n",
              "      <td>We worked with @ second - and third-grade chil...</td>\n",
              "      <td>5</td>\n",
              "      <td>10</td>\n",
              "      <td>RESULTS</td>\n",
              "      <td>0.499333</td>\n",
              "      <td>False</td>\n",
              "    </tr>\n",
              "    <tr>\n",
              "      <th>...</th>\n",
              "      <td>...</td>\n",
              "      <td>...</td>\n",
              "      <td>...</td>\n",
              "      <td>...</td>\n",
              "      <td>...</td>\n",
              "      <td>...</td>\n",
              "      <td>...</td>\n",
              "    </tr>\n",
              "    <tr>\n",
              "      <th>30178</th>\n",
              "      <td>RESULTS</td>\n",
              "      <td>Factors positively associated with DAPT use we...</td>\n",
              "      <td>6</td>\n",
              "      <td>13</td>\n",
              "      <td>METHODS</td>\n",
              "      <td>0.547776</td>\n",
              "      <td>False</td>\n",
              "    </tr>\n",
              "    <tr>\n",
              "      <th>30184</th>\n",
              "      <td>CONCLUSIONS</td>\n",
              "      <td>Several correlates of DAPT were identified .</td>\n",
              "      <td>12</td>\n",
              "      <td>13</td>\n",
              "      <td>RESULTS</td>\n",
              "      <td>0.788037</td>\n",
              "      <td>False</td>\n",
              "    </tr>\n",
              "    <tr>\n",
              "      <th>30186</th>\n",
              "      <td>BACKGROUND</td>\n",
              "      <td>The objective of this study was to assess the ...</td>\n",
              "      <td>0</td>\n",
              "      <td>11</td>\n",
              "      <td>OBJECTIVE</td>\n",
              "      <td>0.632284</td>\n",
              "      <td>False</td>\n",
              "    </tr>\n",
              "    <tr>\n",
              "      <th>30210</th>\n",
              "      <td>CONCLUSIONS</td>\n",
              "      <td>Rates of response to a @-week interferon-free ...</td>\n",
              "      <td>12</td>\n",
              "      <td>13</td>\n",
              "      <td>RESULTS</td>\n",
              "      <td>0.847967</td>\n",
              "      <td>False</td>\n",
              "    </tr>\n",
              "    <tr>\n",
              "      <th>30211</th>\n",
              "      <td>CONCLUSIONS</td>\n",
              "      <td>( Funded by AbbVie ; SAPPHIRE-II ClinicalTrial...</td>\n",
              "      <td>13</td>\n",
              "      <td>13</td>\n",
              "      <td>BACKGROUND</td>\n",
              "      <td>0.609459</td>\n",
              "      <td>False</td>\n",
              "    </tr>\n",
              "  </tbody>\n",
              "</table>\n",
              "<p>5403 rows × 7 columns</p>\n",
              "</div>"
            ],
            "text/plain": [
              "            labels  ... correct\n",
              "2        OBJECTIVE  ...   False\n",
              "13       OBJECTIVE  ...   False\n",
              "24       OBJECTIVE  ...   False\n",
              "25       OBJECTIVE  ...   False\n",
              "26         METHODS  ...   False\n",
              "...            ...  ...     ...\n",
              "30178      RESULTS  ...   False\n",
              "30184  CONCLUSIONS  ...   False\n",
              "30186   BACKGROUND  ...   False\n",
              "30210  CONCLUSIONS  ...   False\n",
              "30211  CONCLUSIONS  ...   False\n",
              "\n",
              "[5403 rows x 7 columns]"
            ]
          },
          "metadata": {},
          "execution_count": 124
        }
      ]
    },
    {
      "cell_type": "code",
      "source": [
        "top_100_wrong = test_df[test_df[\"correct\"] == False].sort_values(\"pred_prob\", ascending=False)[:100]\n",
        "top_100_wrong"
      ],
      "metadata": {
        "colab": {
          "base_uri": "https://localhost:8080/",
          "height": 423
        },
        "id": "WXhZHncGMAwD",
        "outputId": "81837a4a-5ec6-49ea-9b9d-6a7014bc8eac"
      },
      "execution_count": 125,
      "outputs": [
        {
          "output_type": "execute_result",
          "data": {
            "text/html": [
              "<div>\n",
              "<style scoped>\n",
              "    .dataframe tbody tr th:only-of-type {\n",
              "        vertical-align: middle;\n",
              "    }\n",
              "\n",
              "    .dataframe tbody tr th {\n",
              "        vertical-align: top;\n",
              "    }\n",
              "\n",
              "    .dataframe thead th {\n",
              "        text-align: right;\n",
              "    }\n",
              "</style>\n",
              "<table border=\"1\" class=\"dataframe\">\n",
              "  <thead>\n",
              "    <tr style=\"text-align: right;\">\n",
              "      <th></th>\n",
              "      <th>labels</th>\n",
              "      <th>Text</th>\n",
              "      <th>Line_number</th>\n",
              "      <th>total_lines</th>\n",
              "      <th>prediction</th>\n",
              "      <th>pred_prob</th>\n",
              "      <th>correct</th>\n",
              "    </tr>\n",
              "  </thead>\n",
              "  <tbody>\n",
              "    <tr>\n",
              "      <th>10502</th>\n",
              "      <td>RESULTS</td>\n",
              "      <td>Participants without a previous diagnosis of A...</td>\n",
              "      <td>2</td>\n",
              "      <td>16</td>\n",
              "      <td>METHODS</td>\n",
              "      <td>0.995720</td>\n",
              "      <td>False</td>\n",
              "    </tr>\n",
              "    <tr>\n",
              "      <th>20408</th>\n",
              "      <td>RESULTS</td>\n",
              "      <td>A double-blind , randomized , controlled trial...</td>\n",
              "      <td>2</td>\n",
              "      <td>17</td>\n",
              "      <td>METHODS</td>\n",
              "      <td>0.994100</td>\n",
              "      <td>False</td>\n",
              "    </tr>\n",
              "    <tr>\n",
              "      <th>1027</th>\n",
              "      <td>RESULTS</td>\n",
              "      <td>Participants were randomized to tadalafil @ mg...</td>\n",
              "      <td>4</td>\n",
              "      <td>14</td>\n",
              "      <td>METHODS</td>\n",
              "      <td>0.992797</td>\n",
              "      <td>False</td>\n",
              "    </tr>\n",
              "    <tr>\n",
              "      <th>16074</th>\n",
              "      <td>RESULTS</td>\n",
              "      <td>Patient-level analyses were conducted using ge...</td>\n",
              "      <td>3</td>\n",
              "      <td>11</td>\n",
              "      <td>METHODS</td>\n",
              "      <td>0.992243</td>\n",
              "      <td>False</td>\n",
              "    </tr>\n",
              "    <tr>\n",
              "      <th>10686</th>\n",
              "      <td>CONCLUSIONS</td>\n",
              "      <td>Additionally , AST resulted in significantly f...</td>\n",
              "      <td>6</td>\n",
              "      <td>7</td>\n",
              "      <td>RESULTS</td>\n",
              "      <td>0.992173</td>\n",
              "      <td>False</td>\n",
              "    </tr>\n",
              "    <tr>\n",
              "      <th>...</th>\n",
              "      <td>...</td>\n",
              "      <td>...</td>\n",
              "      <td>...</td>\n",
              "      <td>...</td>\n",
              "      <td>...</td>\n",
              "      <td>...</td>\n",
              "      <td>...</td>\n",
              "    </tr>\n",
              "    <tr>\n",
              "      <th>515</th>\n",
              "      <td>RESULTS</td>\n",
              "      <td>A two-compartment model with a first-order abs...</td>\n",
              "      <td>4</td>\n",
              "      <td>11</td>\n",
              "      <td>METHODS</td>\n",
              "      <td>0.968305</td>\n",
              "      <td>False</td>\n",
              "    </tr>\n",
              "    <tr>\n",
              "      <th>10312</th>\n",
              "      <td>BACKGROUND</td>\n",
              "      <td>This study aimed to investigate the views and ...</td>\n",
              "      <td>3</td>\n",
              "      <td>14</td>\n",
              "      <td>METHODS</td>\n",
              "      <td>0.968279</td>\n",
              "      <td>False</td>\n",
              "    </tr>\n",
              "    <tr>\n",
              "      <th>17997</th>\n",
              "      <td>RESULTS</td>\n",
              "      <td>Key efficacy end points were functional status...</td>\n",
              "      <td>4</td>\n",
              "      <td>16</td>\n",
              "      <td>METHODS</td>\n",
              "      <td>0.968195</td>\n",
              "      <td>False</td>\n",
              "    </tr>\n",
              "    <tr>\n",
              "      <th>2253</th>\n",
              "      <td>RESULTS</td>\n",
              "      <td>Infarct size as percentage of total LV mass wa...</td>\n",
              "      <td>3</td>\n",
              "      <td>9</td>\n",
              "      <td>METHODS</td>\n",
              "      <td>0.967657</td>\n",
              "      <td>False</td>\n",
              "    </tr>\n",
              "    <tr>\n",
              "      <th>7392</th>\n",
              "      <td>RESULTS</td>\n",
              "      <td>Sixty patients with chronic ischaemic heart di...</td>\n",
              "      <td>2</td>\n",
              "      <td>14</td>\n",
              "      <td>METHODS</td>\n",
              "      <td>0.967656</td>\n",
              "      <td>False</td>\n",
              "    </tr>\n",
              "  </tbody>\n",
              "</table>\n",
              "<p>100 rows × 7 columns</p>\n",
              "</div>"
            ],
            "text/plain": [
              "            labels  ... correct\n",
              "10502      RESULTS  ...   False\n",
              "20408      RESULTS  ...   False\n",
              "1027       RESULTS  ...   False\n",
              "16074      RESULTS  ...   False\n",
              "10686  CONCLUSIONS  ...   False\n",
              "...            ...  ...     ...\n",
              "515        RESULTS  ...   False\n",
              "10312   BACKGROUND  ...   False\n",
              "17997      RESULTS  ...   False\n",
              "2253       RESULTS  ...   False\n",
              "7392       RESULTS  ...   False\n",
              "\n",
              "[100 rows x 7 columns]"
            ]
          },
          "metadata": {},
          "execution_count": 125
        }
      ]
    },
    {
      "cell_type": "code",
      "source": [
        "# Investigate top wrong preds\n",
        "for row in top_100_wrong[0:10].itertuples(): # adjust indexes to view different samples\n",
        "  _, target, text, line_number, total_lines, prediction, pred_prob, _ = row\n",
        "  print(f\"Target: {target}, Pred: {prediction}, Prob: {pred_prob}, Line number: {line_number}, Total lines: {total_lines}\\n\")\n",
        "  print(f\"Text:\\n{text}\\n\")\n",
        "  print(\"-----\\n\")"
      ],
      "metadata": {
        "colab": {
          "base_uri": "https://localhost:8080/"
        },
        "id": "OEvuCLapMWmV",
        "outputId": "17c5a196-714f-4312-b79a-37cd6c407c20"
      },
      "execution_count": 126,
      "outputs": [
        {
          "output_type": "stream",
          "name": "stdout",
          "text": [
            "Target: RESULTS, Pred: METHODS, Prob: 0.995719850063324, Line number: 2, Total lines: 16\n",
            "\n",
            "Text:\n",
            "Participants without a previous diagnosis of AF underwent intermittent ECG recordings over @ weeks .\n",
            "\n",
            "-----\n",
            "\n",
            "Target: RESULTS, Pred: METHODS, Prob: 0.9941003918647766, Line number: 2, Total lines: 17\n",
            "\n",
            "Text:\n",
            "A double-blind , randomized , controlled trial was conducted at @ sites in the United States .\n",
            "\n",
            "-----\n",
            "\n",
            "Target: RESULTS, Pred: METHODS, Prob: 0.992797315120697, Line number: 4, Total lines: 14\n",
            "\n",
            "Text:\n",
            "Participants were randomized to tadalafil @ mg daily or placebo for @ months .\n",
            "\n",
            "-----\n",
            "\n",
            "Target: RESULTS, Pred: METHODS, Prob: 0.9922427535057068, Line number: 3, Total lines: 11\n",
            "\n",
            "Text:\n",
            "Patient-level analyses were conducted using generalized estimating equations to account for clustering .\n",
            "\n",
            "-----\n",
            "\n",
            "Target: CONCLUSIONS, Pred: RESULTS, Prob: 0.9921731948852539, Line number: 6, Total lines: 7\n",
            "\n",
            "Text:\n",
            "Additionally , AST resulted in significantly fewer vessel-to-air exposure events ( P < @ ) and unprotected sharps exposures ( P < @ ) .\n",
            "\n",
            "-----\n",
            "\n",
            "Target: METHODS, Pred: RESULTS, Prob: 0.9915561676025391, Line number: 10, Total lines: 13\n",
            "\n",
            "Text:\n",
            "Group differences in MADRS scores over time were not significant ( P = @ ) .\n",
            "\n",
            "-----\n",
            "\n",
            "Target: RESULTS, Pred: METHODS, Prob: 0.9912548065185547, Line number: 2, Total lines: 12\n",
            "\n",
            "Text:\n",
            "In a single-center , randomized , double-blinded , placebo-controlled , multi-arm parallel-group clinical trial , patients undergoing primary Fontan surgery were assigned to receive nesiritide , milrinone , or placebo .\n",
            "\n",
            "-----\n",
            "\n",
            "Target: RESULTS, Pred: METHODS, Prob: 0.991104781627655, Line number: 3, Total lines: 11\n",
            "\n",
            "Text:\n",
            "A total of @ patients with hypertension treated with @ mg olmesartan were randomized to receive combination treatment with @ mg azelnidipine ( O/A group ) or diuretics ( @ mg indapamide ; O/D group ) for @ months .\n",
            "\n",
            "-----\n",
            "\n",
            "Target: RESULTS, Pred: METHODS, Prob: 0.9893345236778259, Line number: 2, Total lines: 10\n",
            "\n",
            "Text:\n",
            "Patients were enrolled in an OCT substudy of the TOTAL trial ( a randomized trial of routine aspiration ThrOmbecTomy with PCI vs. PCI ALone in patients with STEMI undergoing primary PCI ) of aspiration thrombectomy or percutaneous coronary intervention ( PCI ) alone in primary PCI ( PPCI ) of STEMI .\n",
            "\n",
            "-----\n",
            "\n",
            "Target: OBJECTIVE, Pred: METHODS, Prob: 0.9892988204956055, Line number: 2, Total lines: 13\n",
            "\n",
            "Text:\n",
            "DESIGN , SUBJECTS , INTERVENTION , OUTCOME MEASURES : In a randomized controlled trial , patients with allergic bronchial asthma were either allocated to a group receiving acupuncture immediately or a waiting-list control group .\n",
            "\n",
            "-----\n",
            "\n"
          ]
        }
      ]
    },
    {
      "cell_type": "code",
      "source": [
        ""
      ],
      "metadata": {
        "id": "8NokCkmxR4p-"
      },
      "execution_count": null,
      "outputs": []
    },
    {
      "cell_type": "code",
      "source": [
        ""
      ],
      "metadata": {
        "id": "l-LpppcCMeWB"
      },
      "execution_count": null,
      "outputs": []
    }
  ]
}